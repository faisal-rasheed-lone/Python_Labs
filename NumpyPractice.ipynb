{
  "metadata": {
    "kernelspec": {
      "language": "python",
      "display_name": "Python 3",
      "name": "python3"
    },
    "language_info": {
      "pygments_lexer": "ipython3",
      "nbconvert_exporter": "python",
      "version": "3.6.4",
      "file_extension": ".py",
      "codemirror_mode": {
        "name": "ipython",
        "version": 3
      },
      "name": "python",
      "mimetype": "text/x-python"
    },
    "kaggle": {
      "accelerator": "none",
      "dataSources": [],
      "dockerImageVersionId": 30197,
      "isInternetEnabled": false,
      "language": "python",
      "sourceType": "notebook",
      "isGpuEnabled": false
    },
    "colab": {
      "name": "notebookd8086f3b7f",
      "provenance": [],
      "toc_visible": true,
      "include_colab_link": true
    }
  },
  "nbformat_minor": 0,
  "nbformat": 4,
  "cells": [
    {
      "cell_type": "markdown",
      "metadata": {
        "id": "view-in-github",
        "colab_type": "text"
      },
      "source": [
        "<a href=\"https://colab.research.google.com/github/faisal-rasheed-lone/Python_Labs/blob/master/NumpyPractice.ipynb\" target=\"_parent\"><img src=\"https://colab.research.google.com/assets/colab-badge.svg\" alt=\"Open In Colab\"/></a>"
      ]
    },
    {
      "cell_type": "markdown",
      "source": [
        "#### **========𝗧𝗔𝗕𝗟𝗘 𝗢𝗙 𝗖𝗢𝗡𝗧𝗘𝗡𝗧========**\n",
        "- Array Creation Methods\n",
        "- Array Operations\n",
        "- Replacing Values Inside Array\n",
        "- Set Operations\n",
        "- Splitting\n",
        "- Stacking\n",
        "- Comparing Two Arrays\n",
        "- Repeating Array Elements\n",
        "- Einstein Summation Conventions\n",
        "- Statistical Analysis\n",
        "- Array Printing Options\n",
        "- Save and Load Array Data"
      ],
      "metadata": {
        "papermill": {
          "duration": 0.047601,
          "end_time": "2022-06-19T18:06:42.94819",
          "exception": false,
          "start_time": "2022-06-19T18:06:42.900589",
          "status": "completed"
        },
        "tags": [],
        "id": "Ot2MUt2IVteR"
      }
    },
    {
      "cell_type": "markdown",
      "source": [
        "<center> <img src='https://miro.medium.com/max/765/1*cyXCE-JcBelTyrK-58w6_Q.png'/></center>\n",
        "<center><h2>Best Numpy Functions For Data Science </h2></center>\n",
        "\n",
        "Numpy stands for numerical python and is a library in python that adds the functionality of large multi-dimensional arrays and matrices. It works as a building block for all the libraries in pydata ecosystem. Numpy is one of the most useful tools for a data scientist that uses python. It can handle large-size data efficiently. One of the biggest reasons to use NumPy is its arrays and multiple scientific functions to work with arrays.\n",
        "\n",
        "> Read The Blog Version Here On **[Medium](https://levelup.gitconnected.com/50-numpy-functions-you-really-needed-for-data-science-fa09e8eb0cf0#3842)**"
      ],
      "metadata": {
        "papermill": {
          "duration": 0.052583,
          "end_time": "2022-06-19T18:06:42.852312",
          "exception": false,
          "start_time": "2022-06-19T18:06:42.799729",
          "status": "completed"
        },
        "tags": [],
        "id": "s2iQ39J2VteV"
      }
    },
    {
      "cell_type": "markdown",
      "source": [
        "<h2 id='createarray'>Array Creation Methods</h2>"
      ],
      "metadata": {
        "papermill": {
          "duration": 0.047357,
          "end_time": "2022-06-19T18:06:43.042839",
          "exception": false,
          "start_time": "2022-06-19T18:06:42.995482",
          "status": "completed"
        },
        "tags": [],
        "id": "RXL6cJC2VteW"
      }
    },
    {
      "cell_type": "markdown",
      "source": [
        "### 1. Array\n",
        "It is used to create one-dimensional or multidimensional arrays from scratch.\n",
        "![image.png](attachment:5d9e81cc-5933-4e43-9096-56246ce548a0.png)\n",
        "\n",
        "▪▶**Important params**<br>\n",
        "`dtype`: desired data type for the resultant array.<br>\n",
        "`ndim`: Specify the minimum number of dimensions for the resultant array."
      ],
      "metadata": {
        "papermill": {
          "duration": 0.047521,
          "end_time": "2022-06-19T18:06:43.138018",
          "exception": false,
          "start_time": "2022-06-19T18:06:43.090497",
          "status": "completed"
        },
        "tags": [],
        "id": "v8RiS78EVteX"
      }
    },
    {
      "cell_type": "code",
      "source": [
        "import numpy as np\n",
        "np.array([1,2,3,4,5])"
      ],
      "metadata": {
        "execution": {
          "iopub.execute_input": "2022-06-19T18:06:43.24409Z",
          "iopub.status.busy": "2022-06-19T18:06:43.243378Z",
          "iopub.status.idle": "2022-06-19T18:06:43.26597Z",
          "shell.execute_reply": "2022-06-19T18:06:43.264909Z"
        },
        "papermill": {
          "duration": 0.082545,
          "end_time": "2022-06-19T18:06:43.268521",
          "exception": false,
          "start_time": "2022-06-19T18:06:43.185976",
          "status": "completed"
        },
        "tags": [],
        "id": "givug1sHVteX",
        "outputId": "2bb72974-9023-4c00-ccc9-e092e0767f2b",
        "colab": {
          "base_uri": "https://localhost:8080/"
        }
      },
      "outputs": [
        {
          "output_type": "execute_result",
          "data": {
            "text/plain": [
              "array([1, 2, 3, 4, 5])"
            ]
          },
          "metadata": {},
          "execution_count": 1
        }
      ],
      "execution_count": 1
    },
    {
      "cell_type": "markdown",
      "source": [
        "You can also use this function to convert series or dataframes into a NumPy array."
      ],
      "metadata": {
        "papermill": {
          "duration": 0.046973,
          "end_time": "2022-06-19T18:06:43.36999",
          "exception": false,
          "start_time": "2022-06-19T18:06:43.323017",
          "status": "completed"
        },
        "tags": [],
        "id": "qKzRfqSNVteY"
      }
    },
    {
      "cell_type": "code",
      "source": [
        "import pandas as pd\n",
        "sex = pd.Series(['Male','Male','Female'])\n",
        "np.array(sex)"
      ],
      "metadata": {
        "execution": {
          "iopub.execute_input": "2022-06-19T18:06:43.466911Z",
          "iopub.status.busy": "2022-06-19T18:06:43.466149Z",
          "iopub.status.idle": "2022-06-19T18:06:43.477177Z",
          "shell.execute_reply": "2022-06-19T18:06:43.476143Z"
        },
        "papermill": {
          "duration": 0.062022,
          "end_time": "2022-06-19T18:06:43.479369",
          "exception": false,
          "start_time": "2022-06-19T18:06:43.417347",
          "status": "completed"
        },
        "tags": [],
        "id": "HdPvghNwVteZ",
        "outputId": "ffcf90e5-e276-4716-fac3-4a6bd1ac6fc4",
        "colab": {
          "base_uri": "https://localhost:8080/"
        }
      },
      "outputs": [
        {
          "output_type": "execute_result",
          "data": {
            "text/plain": [
              "array(['Male', 'Male', 'Female'], dtype=object)"
            ]
          },
          "metadata": {},
          "execution_count": 2
        }
      ],
      "execution_count": 2
    },
    {
      "cell_type": "markdown",
      "source": [
        "### 2. Linspace\n",
        "Creates an array with evenly spaced float numbers over a specified interval.\n",
        "![image.png](attachment:3c46f8c9-1162-47d6-9eef-f75779931b73.png)\n",
        "**▪▶ Important params**<br>\n",
        "`start`: starting index<br>\n",
        "`end`: last index<br>\n",
        "`num`: number of samples to generate, default = 50."
      ],
      "metadata": {
        "papermill": {
          "duration": 0.046855,
          "end_time": "2022-06-19T18:06:43.573008",
          "exception": false,
          "start_time": "2022-06-19T18:06:43.526153",
          "status": "completed"
        },
        "tags": [],
        "id": "K63Vfg-pVtea"
      }
    },
    {
      "cell_type": "code",
      "source": [
        "np.linspace(10,100,10)"
      ],
      "metadata": {
        "execution": {
          "iopub.execute_input": "2022-06-19T18:06:43.669456Z",
          "iopub.status.busy": "2022-06-19T18:06:43.66875Z",
          "iopub.status.idle": "2022-06-19T18:06:43.676547Z",
          "shell.execute_reply": "2022-06-19T18:06:43.67575Z"
        },
        "papermill": {
          "duration": 0.058695,
          "end_time": "2022-06-19T18:06:43.678585",
          "exception": false,
          "start_time": "2022-06-19T18:06:43.61989",
          "status": "completed"
        },
        "tags": [],
        "id": "gWdc3_69Vtea",
        "outputId": "a0515266-fb60-4598-fc59-41c112e7c50e",
        "colab": {
          "base_uri": "https://localhost:8080/"
        }
      },
      "outputs": [
        {
          "output_type": "execute_result",
          "data": {
            "text/plain": [
              "array([ 10.,  20.,  30.,  40.,  50.,  60.,  70.,  80.,  90., 100.])"
            ]
          },
          "metadata": {},
          "execution_count": 3
        }
      ],
      "execution_count": 3
    },
    {
      "cell_type": "markdown",
      "source": [
        "### 3. Arange\n",
        "Return evenly spaced integer values over a given interval with some step size.\n",
        "![image.png](attachment:5beaf627-a740-46b4-9077-a400c26c2a6a.png)\n",
        "\n",
        "**▪▶Important params**<br>\n",
        "`step`: Space between values."
      ],
      "metadata": {
        "papermill": {
          "duration": 0.046857,
          "end_time": "2022-06-19T18:06:43.772797",
          "exception": false,
          "start_time": "2022-06-19T18:06:43.72594",
          "status": "completed"
        },
        "tags": [],
        "id": "e9Q-Ug0uVteb"
      }
    },
    {
      "cell_type": "code",
      "source": [
        "np.arange(5,10,2)"
      ],
      "metadata": {
        "execution": {
          "iopub.execute_input": "2022-06-19T18:06:43.869659Z",
          "iopub.status.busy": "2022-06-19T18:06:43.868962Z",
          "iopub.status.idle": "2022-06-19T18:06:43.876155Z",
          "shell.execute_reply": "2022-06-19T18:06:43.875108Z"
        },
        "papermill": {
          "duration": 0.0583,
          "end_time": "2022-06-19T18:06:43.878258",
          "exception": false,
          "start_time": "2022-06-19T18:06:43.819958",
          "status": "completed"
        },
        "tags": [],
        "id": "-msZ3XU7Vteb",
        "outputId": "bb3abda4-3b61-40e3-b557-dc5c3c5b78ac",
        "colab": {
          "base_uri": "https://localhost:8080/"
        }
      },
      "outputs": [
        {
          "output_type": "execute_result",
          "data": {
            "text/plain": [
              "array([5, 7, 9])"
            ]
          },
          "metadata": {},
          "execution_count": 4
        }
      ],
      "execution_count": 4
    },
    {
      "cell_type": "markdown",
      "source": [
        "### 4. Uniform Samples\n",
        "Generate a random sample from a uniform distribution between lower and higher limit values.\n",
        "![1_zhQK7mUMgKakLHOXre1d3Q.png](attachment:427153ea-a92f-49df-a379-48545f25d604.png)"
      ],
      "metadata": {
        "papermill": {
          "duration": 0.0473,
          "end_time": "2022-06-19T18:06:43.973423",
          "exception": false,
          "start_time": "2022-06-19T18:06:43.926123",
          "status": "completed"
        },
        "tags": [],
        "id": "i2Vw9H2PVtec"
      }
    },
    {
      "cell_type": "code",
      "source": [
        "np.random.uniform(5,10,size = 4)"
      ],
      "metadata": {
        "execution": {
          "iopub.execute_input": "2022-06-19T18:06:44.070578Z",
          "iopub.status.busy": "2022-06-19T18:06:44.069908Z",
          "iopub.status.idle": "2022-06-19T18:06:44.077206Z",
          "shell.execute_reply": "2022-06-19T18:06:44.076225Z"
        },
        "papermill": {
          "duration": 0.058109,
          "end_time": "2022-06-19T18:06:44.07928",
          "exception": false,
          "start_time": "2022-06-19T18:06:44.021171",
          "status": "completed"
        },
        "tags": [],
        "id": "swnYtrkqVtec",
        "outputId": "5323ceec-bd8a-4d8d-f4ad-ccb625b84d4a",
        "colab": {
          "base_uri": "https://localhost:8080/"
        }
      },
      "outputs": [
        {
          "output_type": "execute_result",
          "data": {
            "text/plain": [
              "array([8.25899946, 6.05407596, 8.09302229, 8.01088787])"
            ]
          },
          "metadata": {},
          "execution_count": 5
        }
      ],
      "execution_count": 5
    },
    {
      "cell_type": "code",
      "source": [
        "np.random.uniform(size = 5)"
      ],
      "metadata": {
        "execution": {
          "iopub.execute_input": "2022-06-19T18:06:44.177589Z",
          "iopub.status.busy": "2022-06-19T18:06:44.176979Z",
          "iopub.status.idle": "2022-06-19T18:06:44.184516Z",
          "shell.execute_reply": "2022-06-19T18:06:44.183416Z"
        },
        "papermill": {
          "duration": 0.059396,
          "end_time": "2022-06-19T18:06:44.186663",
          "exception": false,
          "start_time": "2022-06-19T18:06:44.127267",
          "status": "completed"
        },
        "tags": [],
        "id": "IK8-6ESOVtec",
        "outputId": "7c195f5f-f934-4333-9870-6ae17f7ff71b",
        "colab": {
          "base_uri": "https://localhost:8080/"
        }
      },
      "outputs": [
        {
          "output_type": "execute_result",
          "data": {
            "text/plain": [
              "array([0.78969268, 0.7187957 , 0.76602044, 0.8682582 , 0.07989065])"
            ]
          },
          "metadata": {},
          "execution_count": 6
        }
      ],
      "execution_count": 6
    },
    {
      "cell_type": "code",
      "source": [
        "np.random.uniform(size = (2,3))"
      ],
      "metadata": {
        "execution": {
          "iopub.execute_input": "2022-06-19T18:06:44.286031Z",
          "iopub.status.busy": "2022-06-19T18:06:44.285362Z",
          "iopub.status.idle": "2022-06-19T18:06:44.292751Z",
          "shell.execute_reply": "2022-06-19T18:06:44.291723Z"
        },
        "papermill": {
          "duration": 0.059436,
          "end_time": "2022-06-19T18:06:44.294831",
          "exception": false,
          "start_time": "2022-06-19T18:06:44.235395",
          "status": "completed"
        },
        "tags": [],
        "id": "TsxWnAgAVted",
        "outputId": "d07f1246-f3b3-4197-8702-5d21be347ad6",
        "colab": {
          "base_uri": "https://localhost:8080/"
        }
      },
      "outputs": [
        {
          "output_type": "execute_result",
          "data": {
            "text/plain": [
              "array([[0.45850624, 0.48710453, 0.6453573 ],\n",
              "       [0.49463959, 0.83992335, 0.12812682]])"
            ]
          },
          "metadata": {},
          "execution_count": 7
        }
      ],
      "execution_count": 7
    },
    {
      "cell_type": "markdown",
      "source": [
        "### 5. Random.randint\n",
        "Generate n random integer samples within a range.\n",
        "![1_VvCmQnn8u_OyIixZfkyZbw.png](attachment:51b49e32-2fe3-4d07-b218-ade8d73c7244.png)"
      ],
      "metadata": {
        "papermill": {
          "duration": 0.048411,
          "end_time": "2022-06-19T18:06:44.391731",
          "exception": false,
          "start_time": "2022-06-19T18:06:44.34332",
          "status": "completed"
        },
        "tags": [],
        "id": "slcFHzNfVted"
      }
    },
    {
      "cell_type": "code",
      "source": [
        "np.random.randint(5,10,10)"
      ],
      "metadata": {
        "execution": {
          "iopub.execute_input": "2022-06-19T18:06:44.489695Z",
          "iopub.status.busy": "2022-06-19T18:06:44.489292Z",
          "iopub.status.idle": "2022-06-19T18:06:44.4959Z",
          "shell.execute_reply": "2022-06-19T18:06:44.49487Z"
        },
        "papermill": {
          "duration": 0.058634,
          "end_time": "2022-06-19T18:06:44.498327",
          "exception": false,
          "start_time": "2022-06-19T18:06:44.439693",
          "status": "completed"
        },
        "tags": [],
        "id": "uhyGBsxWVted",
        "outputId": "d47c0790-bf53-4263-ec3a-1b49ebbd5a1e",
        "colab": {
          "base_uri": "https://localhost:8080/"
        }
      },
      "outputs": [
        {
          "output_type": "execute_result",
          "data": {
            "text/plain": [
              "array([8, 9, 7, 9, 7, 5, 8, 8, 5, 8])"
            ]
          },
          "metadata": {},
          "execution_count": 8
        }
      ],
      "execution_count": 8
    },
    {
      "cell_type": "markdown",
      "source": [
        "### 6. Random.random\n",
        "Generate n random float samples.![1_FPvTLpPERIOAEGSTRdBPAw.png](attachment:3030a88f-9347-400a-a81e-142aa5ebab18.png)"
      ],
      "metadata": {
        "papermill": {
          "duration": 0.048204,
          "end_time": "2022-06-19T18:06:44.594799",
          "exception": false,
          "start_time": "2022-06-19T18:06:44.546595",
          "status": "completed"
        },
        "tags": [],
        "id": "xPPcgyD8Vted"
      }
    },
    {
      "cell_type": "code",
      "source": [
        "np.random.random(3)"
      ],
      "metadata": {
        "execution": {
          "iopub.execute_input": "2022-06-19T18:06:44.693743Z",
          "iopub.status.busy": "2022-06-19T18:06:44.693131Z",
          "iopub.status.idle": "2022-06-19T18:06:44.699987Z",
          "shell.execute_reply": "2022-06-19T18:06:44.699116Z"
        },
        "papermill": {
          "duration": 0.058394,
          "end_time": "2022-06-19T18:06:44.701995",
          "exception": false,
          "start_time": "2022-06-19T18:06:44.643601",
          "status": "completed"
        },
        "tags": [],
        "id": "HNCthDNMVtee",
        "outputId": "8bd60d3d-6ea8-439a-ad1c-c67ee9d12805",
        "colab": {
          "base_uri": "https://localhost:8080/"
        }
      },
      "outputs": [
        {
          "output_type": "execute_result",
          "data": {
            "text/plain": [
              "array([0.48426098, 0.82788359, 0.82656108])"
            ]
          },
          "metadata": {},
          "execution_count": 9
        }
      ],
      "execution_count": 9
    },
    {
      "cell_type": "markdown",
      "source": [
        "### 7. Logspace\n",
        "Generate evenly spaced numbers on a log scale.![1_k6E0IikIX7zTmyPGZy29Eg.png](attachment:b487115a-01aa-4d64-bb87-af104ae4a221.png)\n",
        "\n",
        "**▪▶ Important params**<br>\n",
        "`start`: starting value of the sequence.<br>\n",
        "`end`: last value of the sequence.<br>\n",
        "`endpoint`: if True, the last sample will be included in the sequence.<br>\n",
        "`base`: The base of the log space. default is 10."
      ],
      "metadata": {
        "papermill": {
          "duration": 0.047973,
          "end_time": "2022-06-19T18:06:44.798216",
          "exception": false,
          "start_time": "2022-06-19T18:06:44.750243",
          "status": "completed"
        },
        "tags": [],
        "id": "qYccW69ZVtee"
      }
    },
    {
      "cell_type": "code",
      "source": [
        "np.logspace(0,10,5,base=2)"
      ],
      "metadata": {
        "execution": {
          "iopub.execute_input": "2022-06-19T18:06:44.896777Z",
          "iopub.status.busy": "2022-06-19T18:06:44.896386Z",
          "iopub.status.idle": "2022-06-19T18:06:44.902827Z",
          "shell.execute_reply": "2022-06-19T18:06:44.902173Z"
        },
        "papermill": {
          "duration": 0.058045,
          "end_time": "2022-06-19T18:06:44.90478",
          "exception": false,
          "start_time": "2022-06-19T18:06:44.846735",
          "status": "completed"
        },
        "tags": [],
        "id": "4_rNTuChVtee",
        "outputId": "6ad120ce-7d75-49d7-ec9e-0532a99faee4",
        "colab": {
          "base_uri": "https://localhost:8080/"
        }
      },
      "outputs": [
        {
          "output_type": "execute_result",
          "data": {
            "text/plain": [
              "array([1.00000000e+00, 5.65685425e+00, 3.20000000e+01, 1.81019336e+02,\n",
              "       1.02400000e+03])"
            ]
          },
          "metadata": {},
          "execution_count": 10
        }
      ],
      "execution_count": 10
    },
    {
      "cell_type": "markdown",
      "source": [
        "### 8. Array of zero\n",
        "np.zeroes function helps to create an array of 0.![1_Hj1ne3gg2wwJ5JQKWx12Jw.png](attachment:fabb507b-f3a1-4c04-bb50-069b5c9f2c65.png)\n",
        "**▪▶ Important params**<br>\n",
        "`shape`: shape of the resultant array.<br>\n",
        "`dtype`: desired data type of resultant array. ‘int’ or default ‘float’"
      ],
      "metadata": {
        "papermill": {
          "duration": 0.048204,
          "end_time": "2022-06-19T18:06:45.000871",
          "exception": false,
          "start_time": "2022-06-19T18:06:44.952667",
          "status": "completed"
        },
        "tags": [],
        "id": "DwcWgtSWVtef"
      }
    },
    {
      "cell_type": "code",
      "source": [
        "np.zeros((2,3),dtype='int')"
      ],
      "metadata": {
        "execution": {
          "iopub.execute_input": "2022-06-19T18:06:45.099093Z",
          "iopub.status.busy": "2022-06-19T18:06:45.098343Z",
          "iopub.status.idle": "2022-06-19T18:06:45.105434Z",
          "shell.execute_reply": "2022-06-19T18:06:45.104416Z"
        },
        "papermill": {
          "duration": 0.058906,
          "end_time": "2022-06-19T18:06:45.107816",
          "exception": false,
          "start_time": "2022-06-19T18:06:45.04891",
          "status": "completed"
        },
        "tags": [],
        "id": "UuVHgQvvVtef",
        "outputId": "7153b020-f90b-4a75-cbe9-a25e77aa8349",
        "colab": {
          "base_uri": "https://localhost:8080/"
        }
      },
      "outputs": [
        {
          "output_type": "execute_result",
          "data": {
            "text/plain": [
              "array([[0, 0, 0],\n",
              "       [0, 0, 0]])"
            ]
          },
          "metadata": {},
          "execution_count": 11
        }
      ],
      "execution_count": 11
    },
    {
      "cell_type": "code",
      "source": [
        "np.zeros(5)"
      ],
      "metadata": {
        "execution": {
          "iopub.execute_input": "2022-06-19T18:06:45.207463Z",
          "iopub.status.busy": "2022-06-19T18:06:45.206771Z",
          "iopub.status.idle": "2022-06-19T18:06:45.213411Z",
          "shell.execute_reply": "2022-06-19T18:06:45.212659Z"
        },
        "papermill": {
          "duration": 0.058922,
          "end_time": "2022-06-19T18:06:45.215399",
          "exception": false,
          "start_time": "2022-06-19T18:06:45.156477",
          "status": "completed"
        },
        "tags": [],
        "id": "seqemaTGVtef",
        "outputId": "11d38d5d-03c5-474b-faba-7d2743ec151e",
        "colab": {
          "base_uri": "https://localhost:8080/"
        }
      },
      "outputs": [
        {
          "output_type": "execute_result",
          "data": {
            "text/plain": [
              "array([0., 0., 0., 0., 0.])"
            ]
          },
          "metadata": {},
          "execution_count": 12
        }
      ],
      "execution_count": 12
    },
    {
      "cell_type": "markdown",
      "source": [
        "### 9. Array of Ones\n",
        "np.ones function helps to create an array of 1.![1_d9VMSaNyH-RMV6sFK_09tQ.png](attachment:df5f7950-3691-4244-8ee1-0f81a76bead4.png)"
      ],
      "metadata": {
        "papermill": {
          "duration": 0.048576,
          "end_time": "2022-06-19T18:06:45.312754",
          "exception": false,
          "start_time": "2022-06-19T18:06:45.264178",
          "status": "completed"
        },
        "tags": [],
        "id": "1nXWt1AIVtef"
      }
    },
    {
      "cell_type": "code",
      "source": [
        "np.ones((3,4))"
      ],
      "metadata": {
        "execution": {
          "iopub.execute_input": "2022-06-19T18:06:45.41209Z",
          "iopub.status.busy": "2022-06-19T18:06:45.411689Z",
          "iopub.status.idle": "2022-06-19T18:06:45.417623Z",
          "shell.execute_reply": "2022-06-19T18:06:45.416906Z"
        },
        "papermill": {
          "duration": 0.058,
          "end_time": "2022-06-19T18:06:45.419481",
          "exception": false,
          "start_time": "2022-06-19T18:06:45.361481",
          "status": "completed"
        },
        "tags": [],
        "id": "CtNRlJmOVteg",
        "outputId": "58c6126b-a65a-46be-d5e0-c8a336ef6681",
        "colab": {
          "base_uri": "https://localhost:8080/"
        }
      },
      "outputs": [
        {
          "output_type": "execute_result",
          "data": {
            "text/plain": [
              "array([[1., 1., 1., 1.],\n",
              "       [1., 1., 1., 1.],\n",
              "       [1., 1., 1., 1.]])"
            ]
          },
          "metadata": {},
          "execution_count": 13
        }
      ],
      "execution_count": 13
    },
    {
      "cell_type": "markdown",
      "source": [
        "### 10. Array of k Random Value\n",
        "Creates an n-dimensional array of a random value.![1_dTZrwbRMeMKcekl9ZXsCAw.png](attachment:5a415716-49b1-4b74-a83f-4a688ba3b8da.png)\n",
        "**▪▶ Important params**<br>\n",
        "`fill_value`: Random value to fill inside the array."
      ],
      "metadata": {
        "papermill": {
          "duration": 0.048363,
          "end_time": "2022-06-19T18:06:45.516648",
          "exception": false,
          "start_time": "2022-06-19T18:06:45.468285",
          "status": "completed"
        },
        "tags": [],
        "id": "1Z36ix8CVteg"
      }
    },
    {
      "cell_type": "code",
      "source": [
        "np.full((2,4),fill_value=2)"
      ],
      "metadata": {
        "execution": {
          "iopub.execute_input": "2022-06-19T18:06:45.616559Z",
          "iopub.status.busy": "2022-06-19T18:06:45.616176Z",
          "iopub.status.idle": "2022-06-19T18:06:45.622424Z",
          "shell.execute_reply": "2022-06-19T18:06:45.621465Z"
        },
        "papermill": {
          "duration": 0.058751,
          "end_time": "2022-06-19T18:06:45.624681",
          "exception": false,
          "start_time": "2022-06-19T18:06:45.56593",
          "status": "completed"
        },
        "tags": [],
        "id": "vB_IvSUaVteg",
        "outputId": "f5ec0ea9-7e25-4f90-d925-47eb918c3a7a",
        "colab": {
          "base_uri": "https://localhost:8080/"
        }
      },
      "outputs": [
        {
          "output_type": "execute_result",
          "data": {
            "text/plain": [
              "array([[2, 2, 2, 2],\n",
              "       [2, 2, 2, 2]])"
            ]
          },
          "metadata": {},
          "execution_count": 14
        }
      ],
      "execution_count": 14
    },
    {
      "cell_type": "markdown",
      "source": [
        "### 11. Identity\n",
        "Create an identity matrix with specified dimensions.![1_3Vix_RFKBZ0E8jtKaOBMqQ.png](attachment:44f3ebab-84b0-49bf-89ac-72eabfe963a6.png)"
      ],
      "metadata": {
        "papermill": {
          "duration": 0.048524,
          "end_time": "2022-06-19T18:06:45.722158",
          "exception": false,
          "start_time": "2022-06-19T18:06:45.673634",
          "status": "completed"
        },
        "tags": [],
        "id": "tb_582JEVteg"
      }
    },
    {
      "cell_type": "code",
      "source": [
        "np.identity(4)"
      ],
      "metadata": {
        "execution": {
          "iopub.execute_input": "2022-06-19T18:06:45.821177Z",
          "iopub.status.busy": "2022-06-19T18:06:45.820756Z",
          "iopub.status.idle": "2022-06-19T18:06:45.827589Z",
          "shell.execute_reply": "2022-06-19T18:06:45.826518Z"
        },
        "papermill": {
          "duration": 0.05913,
          "end_time": "2022-06-19T18:06:45.829914",
          "exception": false,
          "start_time": "2022-06-19T18:06:45.770784",
          "status": "completed"
        },
        "tags": [],
        "id": "PtMBXFQ_Vteh",
        "outputId": "41266dc9-63a1-47c0-a1b3-e08a9226874a",
        "colab": {
          "base_uri": "https://localhost:8080/"
        }
      },
      "outputs": [
        {
          "output_type": "execute_result",
          "data": {
            "text/plain": [
              "array([[1., 0., 0., 0.],\n",
              "       [0., 1., 0., 0.],\n",
              "       [0., 0., 1., 0.],\n",
              "       [0., 0., 0., 1.]])"
            ]
          },
          "metadata": {},
          "execution_count": 15
        }
      ],
      "execution_count": 15
    },
    {
      "cell_type": "markdown",
      "source": [
        "---"
      ],
      "metadata": {
        "papermill": {
          "duration": 0.048724,
          "end_time": "2022-06-19T18:06:45.927601",
          "exception": false,
          "start_time": "2022-06-19T18:06:45.878877",
          "status": "completed"
        },
        "tags": [],
        "id": "Zyd0hKF5Vteh"
      }
    },
    {
      "cell_type": "markdown",
      "source": [
        "## Array Operations"
      ],
      "metadata": {
        "papermill": {
          "duration": 0.048503,
          "end_time": "2022-06-19T18:06:46.025007",
          "exception": false,
          "start_time": "2022-06-19T18:06:45.976504",
          "status": "completed"
        },
        "tags": [],
        "id": "FMpda4lYVteh"
      }
    },
    {
      "cell_type": "markdown",
      "source": [
        "### 12. Min\n",
        "Return the minimum value from the array.![1_Iah738_7UqXwT9JBE4tcDw.png](attachment:aa59ef40-ad61-45bd-bda5-0cefd119b849.png)\n",
        "\n",
        "**▪▶ Important params**<br>\n",
        "`axis`: axis along which to operate.<br>\n",
        "`out`: alternative array to store the output."
      ],
      "metadata": {
        "papermill": {
          "duration": 0.048785,
          "end_time": "2022-06-19T18:06:46.122259",
          "exception": false,
          "start_time": "2022-06-19T18:06:46.073474",
          "status": "completed"
        },
        "tags": [],
        "id": "J-a8KpuAVtei"
      }
    },
    {
      "cell_type": "code",
      "source": [
        "arr = np.array([1,1,2,3,3,4,5,6,6,2])\n",
        "np.min(arr)"
      ],
      "metadata": {
        "execution": {
          "iopub.execute_input": "2022-06-19T18:06:46.221691Z",
          "iopub.status.busy": "2022-06-19T18:06:46.221076Z",
          "iopub.status.idle": "2022-06-19T18:06:46.229282Z",
          "shell.execute_reply": "2022-06-19T18:06:46.228149Z"
        },
        "papermill": {
          "duration": 0.060508,
          "end_time": "2022-06-19T18:06:46.231571",
          "exception": false,
          "start_time": "2022-06-19T18:06:46.171063",
          "status": "completed"
        },
        "tags": [],
        "id": "wZVLJylRVtei",
        "outputId": "e9f882e7-aa74-4ae6-a4a0-e8fef2d10387",
        "colab": {
          "base_uri": "https://localhost:8080/"
        }
      },
      "outputs": [
        {
          "output_type": "execute_result",
          "data": {
            "text/plain": [
              "1"
            ]
          },
          "metadata": {},
          "execution_count": 16
        }
      ],
      "execution_count": 16
    },
    {
      "cell_type": "markdown",
      "source": [
        "### 13. Max\n",
        "Return the maximum value from the array.![1_03Nd6aG5QAGXMnTniEWbEw.png](attachment:b7d15408-8edb-4b01-97ba-4a4256788eef.png)"
      ],
      "metadata": {
        "papermill": {
          "duration": 0.048481,
          "end_time": "2022-06-19T18:06:46.328935",
          "exception": false,
          "start_time": "2022-06-19T18:06:46.280454",
          "status": "completed"
        },
        "tags": [],
        "id": "qM1BEyrFVtei"
      }
    },
    {
      "cell_type": "code",
      "source": [
        "np.max(arr)"
      ],
      "metadata": {
        "execution": {
          "iopub.execute_input": "2022-06-19T18:06:46.429424Z",
          "iopub.status.busy": "2022-06-19T18:06:46.429043Z",
          "iopub.status.idle": "2022-06-19T18:06:46.434946Z",
          "shell.execute_reply": "2022-06-19T18:06:46.434127Z"
        },
        "papermill": {
          "duration": 0.058932,
          "end_time": "2022-06-19T18:06:46.436956",
          "exception": false,
          "start_time": "2022-06-19T18:06:46.378024",
          "status": "completed"
        },
        "tags": [],
        "id": "1pmvz6HBVtej",
        "outputId": "03b13477-5b88-4ff3-8cac-2768ebc4f2f4",
        "colab": {
          "base_uri": "https://localhost:8080/"
        }
      },
      "outputs": [
        {
          "output_type": "execute_result",
          "data": {
            "text/plain": [
              "6"
            ]
          },
          "metadata": {},
          "execution_count": 17
        }
      ],
      "execution_count": 17
    },
    {
      "cell_type": "markdown",
      "source": [
        "### 14. Unique\n",
        "Return an array with all the unique elements sorted.\n",
        "![1_j_bhHwxowLqPxbAl2XbTmg.png](attachment:5303cd5a-dbc2-426a-9ff6-0afc72fe5260.png)\n",
        "\n",
        "**▪▶ Important params**<br>\n",
        "`return_index`: if True, return the indices of the array.<br>\n",
        "`return_inverse`: if True, return the indices of the unique array.<br>\n",
        "`return_counts`: if True, return the number of times each unique element appears inside the array.<br>\n",
        "`axis`: The axis to operate on. By default, the array is considered flattened."
      ],
      "metadata": {
        "papermill": {
          "duration": 0.048643,
          "end_time": "2022-06-19T18:06:46.535257",
          "exception": false,
          "start_time": "2022-06-19T18:06:46.486614",
          "status": "completed"
        },
        "tags": [],
        "id": "-xXVmyAyVtej"
      }
    },
    {
      "cell_type": "code",
      "source": [
        "np.unique(arr,return_counts=True)"
      ],
      "metadata": {
        "execution": {
          "iopub.execute_input": "2022-06-19T18:06:46.635868Z",
          "iopub.status.busy": "2022-06-19T18:06:46.635151Z",
          "iopub.status.idle": "2022-06-19T18:06:46.642445Z",
          "shell.execute_reply": "2022-06-19T18:06:46.641363Z"
        },
        "papermill": {
          "duration": 0.059589,
          "end_time": "2022-06-19T18:06:46.644426",
          "exception": false,
          "start_time": "2022-06-19T18:06:46.584837",
          "status": "completed"
        },
        "tags": [],
        "id": "d-REpu1dVtej",
        "outputId": "6f636c32-c505-4bc3-cf06-b235f962dca2",
        "colab": {
          "base_uri": "https://localhost:8080/"
        }
      },
      "outputs": [
        {
          "output_type": "execute_result",
          "data": {
            "text/plain": [
              "(array([1, 2, 3, 4, 5, 6]), array([2, 2, 2, 1, 1, 2]))"
            ]
          },
          "metadata": {},
          "execution_count": 18
        }
      ],
      "execution_count": 18
    },
    {
      "cell_type": "markdown",
      "source": [
        "### 15. Mean\n",
        "It is used to get the mean of the array.![1_uotYccJmQ5uxlFk1yv7HhA.png](attachment:14285ad7-296e-46be-9ec9-c1a803e796b8.png)"
      ],
      "metadata": {
        "papermill": {
          "duration": 0.048777,
          "end_time": "2022-06-19T18:06:46.742641",
          "exception": false,
          "start_time": "2022-06-19T18:06:46.693864",
          "status": "completed"
        },
        "tags": [],
        "id": "OD7aQ8CLVtej"
      }
    },
    {
      "cell_type": "code",
      "source": [
        "np.mean(arr,dtype='int')"
      ],
      "metadata": {
        "execution": {
          "iopub.execute_input": "2022-06-19T18:06:46.843172Z",
          "iopub.status.busy": "2022-06-19T18:06:46.842522Z",
          "iopub.status.idle": "2022-06-19T18:06:46.849462Z",
          "shell.execute_reply": "2022-06-19T18:06:46.848446Z"
        },
        "papermill": {
          "duration": 0.06001,
          "end_time": "2022-06-19T18:06:46.851419",
          "exception": false,
          "start_time": "2022-06-19T18:06:46.791409",
          "status": "completed"
        },
        "tags": [],
        "id": "ImETqeJUVteq",
        "outputId": "17854c67-d5f2-47e9-f8f2-311c79bd1e14",
        "colab": {
          "base_uri": "https://localhost:8080/"
        }
      },
      "outputs": [
        {
          "output_type": "execute_result",
          "data": {
            "text/plain": [
              "3"
            ]
          },
          "metadata": {},
          "execution_count": 19
        }
      ],
      "execution_count": 19
    },
    {
      "cell_type": "markdown",
      "source": [
        "### 16. Median\n",
        "Return the median value of the array.![1_sSs_cxxBBgUlHGQ2IGoboA.png](attachment:d8784034-2618-408c-84ab-a9dc96b08520.png)"
      ],
      "metadata": {
        "papermill": {
          "duration": 0.049733,
          "end_time": "2022-06-19T18:06:46.95041",
          "exception": false,
          "start_time": "2022-06-19T18:06:46.900677",
          "status": "completed"
        },
        "tags": [],
        "id": "zNjgGYaFVteq"
      }
    },
    {
      "cell_type": "code",
      "source": [
        "arr = np.array([[1,2,3],[5,8,4]])\n",
        "np.median(arr)"
      ],
      "metadata": {
        "execution": {
          "iopub.execute_input": "2022-06-19T18:06:47.05191Z",
          "iopub.status.busy": "2022-06-19T18:06:47.051242Z",
          "iopub.status.idle": "2022-06-19T18:06:47.060886Z",
          "shell.execute_reply": "2022-06-19T18:06:47.059692Z"
        },
        "papermill": {
          "duration": 0.063456,
          "end_time": "2022-06-19T18:06:47.063055",
          "exception": false,
          "start_time": "2022-06-19T18:06:46.999599",
          "status": "completed"
        },
        "tags": [],
        "id": "jwJ1wXtIVteq",
        "outputId": "0f01b912-0c49-4bdc-f9b2-0c5f89c7d95a",
        "colab": {
          "base_uri": "https://localhost:8080/"
        }
      },
      "outputs": [
        {
          "output_type": "execute_result",
          "data": {
            "text/plain": [
              "3.5"
            ]
          },
          "metadata": {},
          "execution_count": 20
        }
      ],
      "execution_count": 20
    },
    {
      "cell_type": "markdown",
      "source": [
        "### 17. Digitize\n",
        "Return the indices of the bins to which each value in the input array belongs.![1_WsF4aLzDyYQ4rSraviyMaw.png](attachment:e7f22293-53cb-470a-b09c-e9d7640e6ca9.png)\n",
        "**▪▶ Important params**<br>\n",
        "`bins`: Array of bins.<br>\n",
        "`right`: Indicates whether the interval includes the right or left bin edge."
      ],
      "metadata": {
        "papermill": {
          "duration": 0.050522,
          "end_time": "2022-06-19T18:06:47.163594",
          "exception": false,
          "start_time": "2022-06-19T18:06:47.113072",
          "status": "completed"
        },
        "tags": [],
        "id": "jPgL8ZmKVter"
      }
    },
    {
      "cell_type": "code",
      "source": [
        "a = np.array([-0.9, 0.5, 0.9, 1, 1.2, 1.4, 3.6, 4.7, 5.3])\n",
        "bins = np.array([0,1,2,3])\n",
        "np.digitize(a,bins)"
      ],
      "metadata": {
        "execution": {
          "iopub.execute_input": "2022-06-19T18:06:47.265397Z",
          "iopub.status.busy": "2022-06-19T18:06:47.264733Z",
          "iopub.status.idle": "2022-06-19T18:06:47.273134Z",
          "shell.execute_reply": "2022-06-19T18:06:47.272087Z"
        },
        "papermill": {
          "duration": 0.061728,
          "end_time": "2022-06-19T18:06:47.275224",
          "exception": false,
          "start_time": "2022-06-19T18:06:47.213496",
          "status": "completed"
        },
        "tags": [],
        "id": "Z2OdtxwuVter",
        "outputId": "db2f1a80-10c4-478a-e20c-015f4ba16564",
        "colab": {
          "base_uri": "https://localhost:8080/"
        }
      },
      "outputs": [
        {
          "output_type": "execute_result",
          "data": {
            "text/plain": [
              "array([0, 1, 1, 2, 2, 2, 4, 4, 4])"
            ]
          },
          "metadata": {},
          "execution_count": 21
        }
      ],
      "execution_count": 21
    },
    {
      "cell_type": "markdown",
      "source": [
        "```\n",
        "Exp        Value\n",
        "x < 0     :   0\n",
        "0 <= x <1 :   1\n",
        "1 <= x <2 :   2\n",
        "2 <= x <3 :   3\n",
        "3 <=x     :   4\n",
        "Compares -0.9 to 0, here x < 0 so Put 0 in resulting array.\n",
        "Compares  0.5 to 0, here 0 <= x <1 so Put 1.\n",
        ".\n",
        "Compares 5.4 to 4, here 3<=x so Put 4\n",
        "```"
      ],
      "metadata": {
        "papermill": {
          "duration": 0.04997,
          "end_time": "2022-06-19T18:06:47.375693",
          "exception": false,
          "start_time": "2022-06-19T18:06:47.325723",
          "status": "completed"
        },
        "tags": [],
        "id": "60PRFpjTVter"
      }
    },
    {
      "cell_type": "markdown",
      "source": [
        "### 18. Reshape\n",
        "It is one of the most used functions of NumPy. It Returns an array containing the same data with a new shape.![1_sg0TYQZzWYZiTzTpUKC7Og.png](attachment:c9c09732-80c1-461c-baa8-7fb7cd2bc3ae.png)"
      ],
      "metadata": {
        "papermill": {
          "duration": 0.049565,
          "end_time": "2022-06-19T18:06:47.47566",
          "exception": false,
          "start_time": "2022-06-19T18:06:47.426095",
          "status": "completed"
        },
        "tags": [],
        "id": "dh5NN3ffVtes"
      }
    },
    {
      "cell_type": "code",
      "source": [
        "A = np.random.randint(15,size=(4,3))\n",
        "A"
      ],
      "metadata": {
        "execution": {
          "iopub.execute_input": "2022-06-19T18:06:47.578566Z",
          "iopub.status.busy": "2022-06-19T18:06:47.577975Z",
          "iopub.status.idle": "2022-06-19T18:06:47.585199Z",
          "shell.execute_reply": "2022-06-19T18:06:47.584093Z"
        },
        "papermill": {
          "duration": 0.06152,
          "end_time": "2022-06-19T18:06:47.587169",
          "exception": false,
          "start_time": "2022-06-19T18:06:47.525649",
          "status": "completed"
        },
        "tags": [],
        "id": "kBWLrlPiVtes",
        "outputId": "8aed0786-831d-4d1b-f40c-cae0bf9772ce",
        "colab": {
          "base_uri": "https://localhost:8080/"
        }
      },
      "outputs": [
        {
          "output_type": "execute_result",
          "data": {
            "text/plain": [
              "array([[ 0, 10, 13],\n",
              "       [ 3,  5,  0],\n",
              "       [14, 13,  2],\n",
              "       [11,  0,  5]])"
            ]
          },
          "metadata": {},
          "execution_count": 22
        }
      ],
      "execution_count": 22
    },
    {
      "cell_type": "code",
      "source": [
        "A.reshape(3,4)"
      ],
      "metadata": {
        "execution": {
          "iopub.execute_input": "2022-06-19T18:06:47.692936Z",
          "iopub.status.busy": "2022-06-19T18:06:47.69236Z",
          "iopub.status.idle": "2022-06-19T18:06:47.699295Z",
          "shell.execute_reply": "2022-06-19T18:06:47.698201Z"
        },
        "papermill": {
          "duration": 0.062244,
          "end_time": "2022-06-19T18:06:47.701318",
          "exception": false,
          "start_time": "2022-06-19T18:06:47.639074",
          "status": "completed"
        },
        "tags": [],
        "id": "5IvKHo1bVtes",
        "outputId": "c9599f90-122b-4a92-fd78-6ca3f43e248c",
        "colab": {
          "base_uri": "https://localhost:8080/"
        }
      },
      "outputs": [
        {
          "output_type": "execute_result",
          "data": {
            "text/plain": [
              "array([[ 0, 10, 13,  3],\n",
              "       [ 5,  0, 14, 13],\n",
              "       [ 2, 11,  0,  5]])"
            ]
          },
          "metadata": {},
          "execution_count": 23
        }
      ],
      "execution_count": 23
    },
    {
      "cell_type": "code",
      "source": [
        "A.reshape(-1)"
      ],
      "metadata": {
        "execution": {
          "iopub.execute_input": "2022-06-19T18:06:47.80681Z",
          "iopub.status.busy": "2022-06-19T18:06:47.80525Z",
          "iopub.status.idle": "2022-06-19T18:06:47.813056Z",
          "shell.execute_reply": "2022-06-19T18:06:47.81209Z"
        },
        "papermill": {
          "duration": 0.062847,
          "end_time": "2022-06-19T18:06:47.815095",
          "exception": false,
          "start_time": "2022-06-19T18:06:47.752248",
          "status": "completed"
        },
        "tags": [],
        "id": "xcoKPLrtVtes",
        "outputId": "aae4d4df-604f-482d-d95e-03741fef2a43",
        "colab": {
          "base_uri": "https://localhost:8080/"
        }
      },
      "outputs": [
        {
          "output_type": "execute_result",
          "data": {
            "text/plain": [
              "array([ 0, 10, 13,  3,  5,  0, 14, 13,  2, 11,  0,  5])"
            ]
          },
          "metadata": {},
          "execution_count": 24
        }
      ],
      "execution_count": 24
    },
    {
      "cell_type": "markdown",
      "source": [
        "### 19. Expand Dimensions\n",
        "It is used to expand the dimensions of an array. This method is useful for creating sample test data for testing a machine learning model.![1_LTIcxoFlpg-zN87ma4yi8g.png](attachment:8af049c7-9393-4f91-b0aa-98b3bb5a39ff.png)"
      ],
      "metadata": {
        "papermill": {
          "duration": 0.1629,
          "end_time": "2022-06-19T18:06:48.029588",
          "exception": false,
          "start_time": "2022-06-19T18:06:47.866688",
          "status": "completed"
        },
        "tags": [],
        "id": "g_Mw4098Vtet"
      }
    },
    {
      "cell_type": "code",
      "source": [
        "arr = np.array([ 8, 14,  1,  8, 11,  4,  9,  4, 1, 13, 13, 11])\n",
        "np.expand_dims(arr,axis=0)"
      ],
      "metadata": {
        "execution": {
          "iopub.execute_input": "2022-06-19T18:06:48.132288Z",
          "iopub.status.busy": "2022-06-19T18:06:48.13189Z",
          "iopub.status.idle": "2022-06-19T18:06:48.138932Z",
          "shell.execute_reply": "2022-06-19T18:06:48.138142Z"
        },
        "papermill": {
          "duration": 0.060222,
          "end_time": "2022-06-19T18:06:48.140844",
          "exception": false,
          "start_time": "2022-06-19T18:06:48.080622",
          "status": "completed"
        },
        "tags": [],
        "id": "aUHjRUMcVtet",
        "outputId": "f872b510-4bc8-4735-f308-3ea09c8fdcd7",
        "colab": {
          "base_uri": "https://localhost:8080/"
        }
      },
      "outputs": [
        {
          "output_type": "execute_result",
          "data": {
            "text/plain": [
              "array([[ 8, 14,  1,  8, 11,  4,  9,  4,  1, 13, 13, 11]])"
            ]
          },
          "metadata": {},
          "execution_count": 25
        }
      ],
      "execution_count": 25
    },
    {
      "cell_type": "code",
      "source": [
        "np.expand_dims(arr,axis=1)"
      ],
      "metadata": {
        "execution": {
          "iopub.execute_input": "2022-06-19T18:06:48.244185Z",
          "iopub.status.busy": "2022-06-19T18:06:48.243326Z",
          "iopub.status.idle": "2022-06-19T18:06:48.250262Z",
          "shell.execute_reply": "2022-06-19T18:06:48.24917Z"
        },
        "papermill": {
          "duration": 0.060762,
          "end_time": "2022-06-19T18:06:48.252389",
          "exception": false,
          "start_time": "2022-06-19T18:06:48.191627",
          "status": "completed"
        },
        "tags": [],
        "id": "kkG9I_4MVtet",
        "outputId": "a8aa44ee-ffc0-4cc2-f4af-51e7ab827beb",
        "colab": {
          "base_uri": "https://localhost:8080/"
        }
      },
      "outputs": [
        {
          "output_type": "execute_result",
          "data": {
            "text/plain": [
              "array([[ 8],\n",
              "       [14],\n",
              "       [ 1],\n",
              "       [ 8],\n",
              "       [11],\n",
              "       [ 4],\n",
              "       [ 9],\n",
              "       [ 4],\n",
              "       [ 1],\n",
              "       [13],\n",
              "       [13],\n",
              "       [11]])"
            ]
          },
          "metadata": {},
          "execution_count": 26
        }
      ],
      "execution_count": 26
    },
    {
      "cell_type": "markdown",
      "source": [
        "## 20. Squeeze\n",
        "Reduce the dimension of an array by removing single-dimensional entrie![1_lFO6q9flt0_bqO_e2oRfWA.png](attachment:ab4bbf86-8472-428a-afbe-d2054e6dbf40.png)"
      ],
      "metadata": {
        "papermill": {
          "duration": 0.05076,
          "end_time": "2022-06-19T18:06:48.354187",
          "exception": false,
          "start_time": "2022-06-19T18:06:48.303427",
          "status": "completed"
        },
        "tags": [],
        "id": "p2lGMQDiVtet"
      }
    },
    {
      "cell_type": "code",
      "source": [
        "arr = np.array([[ 8],[14],[ 1],[ 8],[11],[ 4],[ 9],[ 4],[ 1],[13],[13],[11]])\n",
        "np.squeeze(arr)"
      ],
      "metadata": {
        "execution": {
          "iopub.execute_input": "2022-06-19T18:06:48.458722Z",
          "iopub.status.busy": "2022-06-19T18:06:48.458296Z",
          "iopub.status.idle": "2022-06-19T18:06:48.465828Z",
          "shell.execute_reply": "2022-06-19T18:06:48.465173Z"
        },
        "papermill": {
          "duration": 0.062101,
          "end_time": "2022-06-19T18:06:48.467872",
          "exception": false,
          "start_time": "2022-06-19T18:06:48.405771",
          "status": "completed"
        },
        "tags": [],
        "id": "jRPwqejrVteu",
        "outputId": "a9619898-66f2-47cd-82b9-1c1d5868f328",
        "colab": {
          "base_uri": "https://localhost:8080/"
        }
      },
      "outputs": [
        {
          "output_type": "execute_result",
          "data": {
            "text/plain": [
              "array([ 8, 14,  1,  8, 11,  4,  9,  4,  1, 13, 13, 11])"
            ]
          },
          "metadata": {},
          "execution_count": 27
        }
      ],
      "execution_count": 27
    },
    {
      "cell_type": "markdown",
      "source": [
        "### 21. Count Non-Zero\n",
        "Count all the non-zero elements and return their count.![1_jxsYNB6uHpjMynqgZ1_PFw.png](attachment:af19eaeb-8cd1-483a-97d3-7df03dc10ac5.png)"
      ],
      "metadata": {
        "papermill": {
          "duration": 0.050805,
          "end_time": "2022-06-19T18:06:48.569619",
          "exception": false,
          "start_time": "2022-06-19T18:06:48.518814",
          "status": "completed"
        },
        "tags": [],
        "id": "q9htv9LIVteu"
      }
    },
    {
      "cell_type": "code",
      "source": [
        "a = np.array([0,0,1,1,1,0])\n",
        "np.count_nonzero(a)"
      ],
      "metadata": {
        "execution": {
          "iopub.execute_input": "2022-06-19T18:06:48.674955Z",
          "iopub.status.busy": "2022-06-19T18:06:48.673961Z",
          "iopub.status.idle": "2022-06-19T18:06:48.681433Z",
          "shell.execute_reply": "2022-06-19T18:06:48.680424Z"
        },
        "papermill": {
          "duration": 0.062604,
          "end_time": "2022-06-19T18:06:48.683715",
          "exception": false,
          "start_time": "2022-06-19T18:06:48.621111",
          "status": "completed"
        },
        "tags": [],
        "id": "pufVEhrVVteu",
        "outputId": "b7c5e888-3dc7-4879-bd93-4ec9b52f70d7",
        "colab": {
          "base_uri": "https://localhost:8080/"
        }
      },
      "outputs": [
        {
          "output_type": "execute_result",
          "data": {
            "text/plain": [
              "3"
            ]
          },
          "metadata": {},
          "execution_count": 28
        }
      ],
      "execution_count": 28
    },
    {
      "cell_type": "markdown",
      "source": [
        "### 22. argwhere\n",
        "Find and return all the indices of non-zero elements.![1__oc7SUrWanmeNPFKAOedpw.png](attachment:d01111e5-2d51-4537-b9c0-fe74fe015ee8.png)"
      ],
      "metadata": {
        "papermill": {
          "duration": 0.050222,
          "end_time": "2022-06-19T18:06:48.842705",
          "exception": false,
          "start_time": "2022-06-19T18:06:48.792483",
          "status": "completed"
        },
        "tags": [],
        "id": "psjQRw2jVtev"
      }
    },
    {
      "cell_type": "code",
      "source": [
        "a = np.array([0,0,1,1,1,0])\n",
        "np.argwhere(a)"
      ],
      "metadata": {
        "execution": {
          "iopub.execute_input": "2022-06-19T18:06:48.945633Z",
          "iopub.status.busy": "2022-06-19T18:06:48.944964Z",
          "iopub.status.idle": "2022-06-19T18:06:48.952469Z",
          "shell.execute_reply": "2022-06-19T18:06:48.951338Z"
        },
        "papermill": {
          "duration": 0.061669,
          "end_time": "2022-06-19T18:06:48.954704",
          "exception": false,
          "start_time": "2022-06-19T18:06:48.893035",
          "status": "completed"
        },
        "tags": [],
        "id": "cbhVvbd5Vtev",
        "outputId": "ba7152a2-0f0d-422a-a44a-3f5d336fd9b2",
        "colab": {
          "base_uri": "https://localhost:8080/"
        }
      },
      "outputs": [
        {
          "output_type": "execute_result",
          "data": {
            "text/plain": [
              "array([[2],\n",
              "       [3],\n",
              "       [4]])"
            ]
          },
          "metadata": {},
          "execution_count": 29
        }
      ],
      "execution_count": 29
    },
    {
      "cell_type": "markdown",
      "source": [
        "### 23. argmax & argmin\n",
        "argmax returns the index of the max element from the array. It can be used to get the index of high probability predicted labels in multiclass image classification problems.![1_iHMw3cYjD64NiNQwO7vikQ.png](attachment:ce514e26-6810-443a-a574-a486ec01c48c.png)"
      ],
      "metadata": {
        "papermill": {
          "duration": 0.051057,
          "end_time": "2022-06-19T18:06:49.057268",
          "exception": false,
          "start_time": "2022-06-19T18:06:49.006211",
          "status": "completed"
        },
        "tags": [],
        "id": "NxyiqeTBVtev"
      }
    },
    {
      "cell_type": "code",
      "source": [
        "arr = np.array([[0.12,0.64,0.19,0.05]])\n",
        "np.argmax(arr)"
      ],
      "metadata": {
        "execution": {
          "iopub.execute_input": "2022-06-19T18:06:49.162483Z",
          "iopub.status.busy": "2022-06-19T18:06:49.162109Z",
          "iopub.status.idle": "2022-06-19T18:06:49.167922Z",
          "shell.execute_reply": "2022-06-19T18:06:49.167201Z"
        },
        "papermill": {
          "duration": 0.06148,
          "end_time": "2022-06-19T18:06:49.17019",
          "exception": false,
          "start_time": "2022-06-19T18:06:49.10871",
          "status": "completed"
        },
        "tags": [],
        "id": "hqvtIgjLVtev",
        "outputId": "95b462ff-ab8e-4b19-e2b7-2f4674b6fe88",
        "colab": {
          "base_uri": "https://localhost:8080/"
        }
      },
      "outputs": [
        {
          "output_type": "execute_result",
          "data": {
            "text/plain": [
              "1"
            ]
          },
          "metadata": {},
          "execution_count": 30
        }
      ],
      "execution_count": 30
    },
    {
      "cell_type": "markdown",
      "source": [
        "argmin will return the index of the lowest element from the array.\n",
        "![1_f5eRCZFBcmKjfAyWhxbhQQ.png](attachment:59b107a2-e041-4846-89e5-e33cc2f4cfa4.png)"
      ],
      "metadata": {
        "papermill": {
          "duration": 0.051535,
          "end_time": "2022-06-19T18:06:49.272519",
          "exception": false,
          "start_time": "2022-06-19T18:06:49.220984",
          "status": "completed"
        },
        "tags": [],
        "id": "hPkk41wNVtew"
      }
    },
    {
      "cell_type": "code",
      "source": [
        "np.argmin(min)"
      ],
      "metadata": {
        "execution": {
          "iopub.execute_input": "2022-06-19T18:06:49.37775Z",
          "iopub.status.busy": "2022-06-19T18:06:49.377362Z",
          "iopub.status.idle": "2022-06-19T18:06:49.383879Z",
          "shell.execute_reply": "2022-06-19T18:06:49.38283Z"
        },
        "papermill": {
          "duration": 0.061586,
          "end_time": "2022-06-19T18:06:49.386166",
          "exception": false,
          "start_time": "2022-06-19T18:06:49.32458",
          "status": "completed"
        },
        "tags": [],
        "id": "ZvyalMtIVtew",
        "outputId": "06ea225d-dbfa-470e-c54a-9b0c04b4570d",
        "colab": {
          "base_uri": "https://localhost:8080/"
        }
      },
      "outputs": [
        {
          "output_type": "execute_result",
          "data": {
            "text/plain": [
              "0"
            ]
          },
          "metadata": {},
          "execution_count": 31
        }
      ],
      "execution_count": 31
    },
    {
      "cell_type": "markdown",
      "source": [
        "### 24. Sort\n",
        "Sort the array and return.![1_P9UmfhqI95AbeWzFKr55Ew.png](attachment:d330b6f0-fa6d-4577-a5a9-3a34f5baf0df.png)\n",
        "\n",
        "**▪▶ Important params**<br>\n",
        "`kind`: Sorting algorithm to use. {‘quicksort’, ‘mergesort’, ‘heapsort’, ‘stable’}"
      ],
      "metadata": {
        "papermill": {
          "duration": 0.05065,
          "end_time": "2022-06-19T18:06:49.488293",
          "exception": false,
          "start_time": "2022-06-19T18:06:49.437643",
          "status": "completed"
        },
        "tags": [],
        "id": "pqJYRvxKVtew"
      }
    },
    {
      "cell_type": "code",
      "source": [
        "arr = np.array([2,3,1,7,4,5])\n",
        "np.sort(arr)"
      ],
      "metadata": {
        "execution": {
          "iopub.execute_input": "2022-06-19T18:06:49.591343Z",
          "iopub.status.busy": "2022-06-19T18:06:49.590919Z",
          "iopub.status.idle": "2022-06-19T18:06:49.597819Z",
          "shell.execute_reply": "2022-06-19T18:06:49.596912Z"
        },
        "papermill": {
          "duration": 0.060833,
          "end_time": "2022-06-19T18:06:49.599805",
          "exception": false,
          "start_time": "2022-06-19T18:06:49.538972",
          "status": "completed"
        },
        "tags": [],
        "id": "B7UvYmYHVtex",
        "outputId": "05c70bbe-774a-4da7-e11c-b939062b4b4e",
        "colab": {
          "base_uri": "https://localhost:8080/"
        }
      },
      "outputs": [
        {
          "output_type": "execute_result",
          "data": {
            "text/plain": [
              "array([1, 2, 3, 4, 5, 7])"
            ]
          },
          "metadata": {},
          "execution_count": 32
        }
      ],
      "execution_count": 32
    },
    {
      "cell_type": "markdown",
      "source": [
        "### 25. Abs\n",
        "Return the absolute values of elements inside an array. It is useful when an array contains negative values."
      ],
      "metadata": {
        "papermill": {
          "duration": 0.050917,
          "end_time": "2022-06-19T18:06:49.70163",
          "exception": false,
          "start_time": "2022-06-19T18:06:49.650713",
          "status": "completed"
        },
        "tags": [],
        "id": "KiFQcKKmVtex"
      }
    },
    {
      "cell_type": "code",
      "source": [
        "A = np.array([[1,-3,4],[-2,-4,3]])\n",
        "np.abs(A)"
      ],
      "metadata": {
        "execution": {
          "iopub.execute_input": "2022-06-19T18:06:49.805723Z",
          "iopub.status.busy": "2022-06-19T18:06:49.805147Z",
          "iopub.status.idle": "2022-06-19T18:06:49.812689Z",
          "shell.execute_reply": "2022-06-19T18:06:49.811632Z"
        },
        "papermill": {
          "duration": 0.062197,
          "end_time": "2022-06-19T18:06:49.814728",
          "exception": false,
          "start_time": "2022-06-19T18:06:49.752531",
          "status": "completed"
        },
        "tags": [],
        "id": "mzIFylsKVtex",
        "outputId": "e2d2be3b-653e-41f8-d3a0-c7edfc32a7b4",
        "colab": {
          "base_uri": "https://localhost:8080/"
        }
      },
      "outputs": [
        {
          "output_type": "execute_result",
          "data": {
            "text/plain": [
              "array([[1, 3, 4],\n",
              "       [2, 4, 3]])"
            ]
          },
          "metadata": {},
          "execution_count": 33
        }
      ],
      "execution_count": 33
    },
    {
      "cell_type": "markdown",
      "source": [
        "### 26. Round\n",
        "Round the float values to a specified number of decimal points.![1_tzU3BQvlByNniXqvhMJO3A.png](attachment:087aae8a-6caf-4477-a48a-ef4924809037.png)\n",
        "\n",
        "**▪▶ Important params**<br>\n",
        "`decimals`: Number of decimals point to keep."
      ],
      "metadata": {
        "papermill": {
          "duration": 0.051799,
          "end_time": "2022-06-19T18:06:49.918273",
          "exception": false,
          "start_time": "2022-06-19T18:06:49.866474",
          "status": "completed"
        },
        "tags": [],
        "id": "91ITlAjCVtex"
      }
    },
    {
      "cell_type": "code",
      "source": [
        "a = np.random.random(size=(3,4))\n",
        "a"
      ],
      "metadata": {
        "execution": {
          "iopub.execute_input": "2022-06-19T18:06:50.024095Z",
          "iopub.status.busy": "2022-06-19T18:06:50.023701Z",
          "iopub.status.idle": "2022-06-19T18:06:50.029876Z",
          "shell.execute_reply": "2022-06-19T18:06:50.029213Z"
        },
        "papermill": {
          "duration": 0.06162,
          "end_time": "2022-06-19T18:06:50.031938",
          "exception": false,
          "start_time": "2022-06-19T18:06:49.970318",
          "status": "completed"
        },
        "tags": [],
        "id": "7NsOKnn0Vtey",
        "outputId": "296ec20e-1c60-4494-a927-1194ae4eb813",
        "colab": {
          "base_uri": "https://localhost:8080/"
        }
      },
      "outputs": [
        {
          "output_type": "execute_result",
          "data": {
            "text/plain": [
              "array([[0.11901791, 0.65526037, 0.02254826, 0.54165441],\n",
              "       [0.85608235, 0.53068248, 0.32425659, 0.12034033],\n",
              "       [0.58092212, 0.74672977, 0.31887379, 0.7710685 ]])"
            ]
          },
          "metadata": {},
          "execution_count": 34
        }
      ],
      "execution_count": 34
    },
    {
      "cell_type": "code",
      "source": [
        "np.round(a,decimals=0)"
      ],
      "metadata": {
        "execution": {
          "iopub.execute_input": "2022-06-19T18:06:50.154842Z",
          "iopub.status.busy": "2022-06-19T18:06:50.15417Z",
          "iopub.status.idle": "2022-06-19T18:06:50.160908Z",
          "shell.execute_reply": "2022-06-19T18:06:50.159891Z"
        },
        "papermill": {
          "duration": 0.073587,
          "end_time": "2022-06-19T18:06:50.163799",
          "exception": false,
          "start_time": "2022-06-19T18:06:50.090212",
          "status": "completed"
        },
        "tags": [],
        "id": "I1-0ka0xVtey",
        "outputId": "8b8ec98a-91fb-443f-9476-d459646a4ec6",
        "colab": {
          "base_uri": "https://localhost:8080/"
        }
      },
      "outputs": [
        {
          "output_type": "execute_result",
          "data": {
            "text/plain": [
              "array([[0., 1., 0., 1.],\n",
              "       [1., 1., 0., 0.],\n",
              "       [1., 1., 0., 1.]])"
            ]
          },
          "metadata": {},
          "execution_count": 35
        }
      ],
      "execution_count": 35
    },
    {
      "cell_type": "code",
      "source": [
        "np.round(a,decimals=1)"
      ],
      "metadata": {
        "execution": {
          "iopub.execute_input": "2022-06-19T18:06:50.28147Z",
          "iopub.status.busy": "2022-06-19T18:06:50.280576Z",
          "iopub.status.idle": "2022-06-19T18:06:50.28934Z",
          "shell.execute_reply": "2022-06-19T18:06:50.288275Z"
        },
        "papermill": {
          "duration": 0.066037,
          "end_time": "2022-06-19T18:06:50.291583",
          "exception": false,
          "start_time": "2022-06-19T18:06:50.225546",
          "status": "completed"
        },
        "tags": [],
        "id": "8G18KWVcVtey",
        "outputId": "6b3be395-130f-45b4-b702-5a44e8a24346",
        "colab": {
          "base_uri": "https://localhost:8080/"
        }
      },
      "outputs": [
        {
          "output_type": "execute_result",
          "data": {
            "text/plain": [
              "array([[0.1, 0.7, 0. , 0.5],\n",
              "       [0.9, 0.5, 0.3, 0.1],\n",
              "       [0.6, 0.7, 0.3, 0.8]])"
            ]
          },
          "metadata": {},
          "execution_count": 36
        }
      ],
      "execution_count": 36
    },
    {
      "cell_type": "markdown",
      "source": [
        "### 27. Clip\n",
        "It is used to keep the values of an array within a range."
      ],
      "metadata": {
        "papermill": {
          "duration": 0.058616,
          "end_time": "2022-06-19T18:06:50.411677",
          "exception": false,
          "start_time": "2022-06-19T18:06:50.353061",
          "status": "completed"
        },
        "tags": [],
        "id": "XEigr61hVtez"
      }
    },
    {
      "cell_type": "code",
      "source": [
        "arr = np.array([0,1,-3,-4,5,6,7,2,3])\n",
        "arr.clip(0,5)"
      ],
      "metadata": {
        "execution": {
          "iopub.execute_input": "2022-06-19T18:06:50.528877Z",
          "iopub.status.busy": "2022-06-19T18:06:50.528021Z",
          "iopub.status.idle": "2022-06-19T18:06:50.537133Z",
          "shell.execute_reply": "2022-06-19T18:06:50.535937Z"
        },
        "papermill": {
          "duration": 0.065403,
          "end_time": "2022-06-19T18:06:50.539307",
          "exception": false,
          "start_time": "2022-06-19T18:06:50.473904",
          "status": "completed"
        },
        "tags": [],
        "id": "t2ICaCwZVtez",
        "outputId": "8ea1efa8-36aa-4116-dd49-7c0e73f9785c",
        "colab": {
          "base_uri": "https://localhost:8080/"
        }
      },
      "outputs": [
        {
          "output_type": "execute_result",
          "data": {
            "text/plain": [
              "array([0, 1, 0, 0, 5, 5, 5, 2, 3])"
            ]
          },
          "metadata": {},
          "execution_count": 37
        }
      ],
      "execution_count": 37
    },
    {
      "cell_type": "code",
      "source": [
        "arr.clip(0,3)"
      ],
      "metadata": {
        "execution": {
          "iopub.execute_input": "2022-06-19T18:06:50.644952Z",
          "iopub.status.busy": "2022-06-19T18:06:50.644537Z",
          "iopub.status.idle": "2022-06-19T18:06:50.651684Z",
          "shell.execute_reply": "2022-06-19T18:06:50.650673Z"
        },
        "papermill": {
          "duration": 0.062027,
          "end_time": "2022-06-19T18:06:50.653989",
          "exception": false,
          "start_time": "2022-06-19T18:06:50.591962",
          "status": "completed"
        },
        "tags": [],
        "id": "JDCMCxQiVtez",
        "outputId": "25666511-4bf2-41c4-a613-4ad9cec2a8d5",
        "colab": {
          "base_uri": "https://localhost:8080/"
        }
      },
      "outputs": [
        {
          "output_type": "execute_result",
          "data": {
            "text/plain": [
              "array([0, 1, 0, 0, 3, 3, 3, 2, 3])"
            ]
          },
          "metadata": {},
          "execution_count": 38
        }
      ],
      "execution_count": 38
    },
    {
      "cell_type": "code",
      "source": [
        "arr.clip(3,5)"
      ],
      "metadata": {
        "execution": {
          "iopub.execute_input": "2022-06-19T18:06:50.759461Z",
          "iopub.status.busy": "2022-06-19T18:06:50.75908Z",
          "iopub.status.idle": "2022-06-19T18:06:50.765967Z",
          "shell.execute_reply": "2022-06-19T18:06:50.764947Z"
        },
        "papermill": {
          "duration": 0.061741,
          "end_time": "2022-06-19T18:06:50.768262",
          "exception": false,
          "start_time": "2022-06-19T18:06:50.706521",
          "status": "completed"
        },
        "tags": [],
        "id": "kuWBUiZFVte0",
        "outputId": "9c6162d8-5245-4e58-8085-580e95553cb6",
        "colab": {
          "base_uri": "https://localhost:8080/"
        }
      },
      "outputs": [
        {
          "output_type": "execute_result",
          "data": {
            "text/plain": [
              "array([3, 3, 3, 3, 5, 5, 5, 3, 3])"
            ]
          },
          "metadata": {},
          "execution_count": 39
        }
      ],
      "execution_count": 39
    },
    {
      "cell_type": "markdown",
      "source": [
        "***"
      ],
      "metadata": {
        "papermill": {
          "duration": 0.052929,
          "end_time": "2022-06-19T18:06:50.874075",
          "exception": false,
          "start_time": "2022-06-19T18:06:50.821146",
          "status": "completed"
        },
        "tags": [],
        "id": "-QTFGjiBVte0"
      }
    },
    {
      "cell_type": "markdown",
      "source": [
        "## Replacing Values Inside Array"
      ],
      "metadata": {
        "papermill": {
          "duration": 0.051758,
          "end_time": "2022-06-19T18:06:50.981515",
          "exception": false,
          "start_time": "2022-06-19T18:06:50.929757",
          "status": "completed"
        },
        "tags": [],
        "id": "p4wfjv9GVte0"
      }
    },
    {
      "cell_type": "markdown",
      "source": [
        "### 28. Where\n",
        "Return elements from an array where a condition satisfies.![1_9-_yZurf1saGMDbNptiLZQ.png](attachment:a7f3ced8-4834-4eca-ace4-82c5bf940c99.png)\n",
        "\n",
        "**▪▶ Important params**\n",
        "`condition`: condition to match. if true yield xotherwise y."
      ],
      "metadata": {
        "papermill": {
          "duration": 0.052129,
          "end_time": "2022-06-19T18:06:51.085775",
          "exception": false,
          "start_time": "2022-06-19T18:06:51.033646",
          "status": "completed"
        },
        "tags": [],
        "id": "Gf4D-chtVte0"
      }
    },
    {
      "cell_type": "code",
      "source": [
        "a = np.arange(12).reshape(4,3)\n",
        "a"
      ],
      "metadata": {
        "execution": {
          "iopub.execute_input": "2022-06-19T18:06:51.195625Z",
          "iopub.status.busy": "2022-06-19T18:06:51.194874Z",
          "iopub.status.idle": "2022-06-19T18:06:51.201884Z",
          "shell.execute_reply": "2022-06-19T18:06:51.200934Z"
        },
        "papermill": {
          "duration": 0.065894,
          "end_time": "2022-06-19T18:06:51.203877",
          "exception": false,
          "start_time": "2022-06-19T18:06:51.137983",
          "status": "completed"
        },
        "tags": [],
        "id": "d4aVHHKIVte1",
        "outputId": "8d2433d6-6173-4439-ca96-ea9467de65e5",
        "colab": {
          "base_uri": "https://localhost:8080/"
        }
      },
      "outputs": [
        {
          "output_type": "execute_result",
          "data": {
            "text/plain": [
              "array([[ 0,  1,  2],\n",
              "       [ 3,  4,  5],\n",
              "       [ 6,  7,  8],\n",
              "       [ 9, 10, 11]])"
            ]
          },
          "metadata": {},
          "execution_count": 40
        }
      ],
      "execution_count": 40
    },
    {
      "cell_type": "code",
      "source": [
        "np.where(a>5)"
      ],
      "metadata": {
        "execution": {
          "iopub.execute_input": "2022-06-19T18:06:51.312408Z",
          "iopub.status.busy": "2022-06-19T18:06:51.311525Z",
          "iopub.status.idle": "2022-06-19T18:06:51.319517Z",
          "shell.execute_reply": "2022-06-19T18:06:51.318374Z"
        },
        "papermill": {
          "duration": 0.064815,
          "end_time": "2022-06-19T18:06:51.321583",
          "exception": false,
          "start_time": "2022-06-19T18:06:51.256768",
          "status": "completed"
        },
        "tags": [],
        "id": "7fSBtpi4Vte1",
        "outputId": "752e4786-93e3-4e77-e8b8-0a873e393d96",
        "colab": {
          "base_uri": "https://localhost:8080/"
        }
      },
      "outputs": [
        {
          "output_type": "execute_result",
          "data": {
            "text/plain": [
              "(array([2, 2, 2, 3, 3, 3]), array([0, 1, 2, 0, 1, 2]))"
            ]
          },
          "metadata": {},
          "execution_count": 41
        }
      ],
      "execution_count": 41
    },
    {
      "cell_type": "markdown",
      "source": [
        "```\n",
        "'''\n",
        "[2][0] ᴇʟᴇᴍᴇɴᴛ (2ɴꜱ ʀᴏᴡ 0ᴛʜ ᴄᴏʟᴜᴍɴ) 6 > 5, ʀᴇᴛᴜʀɴ\n",
        "[2][1] ᴇʟᴇᴍᴇɴᴛ (2ɴᴅ ʀᴏᴡ 1ꜱᴛ ᴄᴏʟᴜᴍɴ) 7 > 5, ʀᴇᴛᴜʀɴ\n",
        ".\n",
        "[3][2] ᴇʟᴇᴍᴇɴᴛ (3ᴅ ʀᴏᴡ 2ɴᴅ ᴄᴏʟᴜᴍɴ) 11 > 5, ʀᴇᴛᴜʀɴ\n",
        "'''\n",
        "```"
      ],
      "metadata": {
        "papermill": {
          "duration": 0.053346,
          "end_time": "2022-06-19T18:06:51.427947",
          "exception": false,
          "start_time": "2022-06-19T18:06:51.374601",
          "status": "completed"
        },
        "tags": [],
        "id": "08K-1l8aVte1"
      }
    },
    {
      "cell_type": "code",
      "source": [
        "a[np.where(a>5)]"
      ],
      "metadata": {
        "execution": {
          "iopub.execute_input": "2022-06-19T18:06:51.536044Z",
          "iopub.status.busy": "2022-06-19T18:06:51.535421Z",
          "iopub.status.idle": "2022-06-19T18:06:51.54258Z",
          "shell.execute_reply": "2022-06-19T18:06:51.541549Z"
        },
        "papermill": {
          "duration": 0.063272,
          "end_time": "2022-06-19T18:06:51.544628",
          "exception": false,
          "start_time": "2022-06-19T18:06:51.481356",
          "status": "completed"
        },
        "tags": [],
        "id": "lNHQa5pAVte2",
        "outputId": "ceeef1a6-f079-4906-80ce-90050b22d67d",
        "colab": {
          "base_uri": "https://localhost:8080/"
        }
      },
      "outputs": [
        {
          "output_type": "execute_result",
          "data": {
            "text/plain": [
              "array([ 6,  7,  8,  9, 10, 11])"
            ]
          },
          "metadata": {},
          "execution_count": 42
        }
      ],
      "execution_count": 42
    },
    {
      "cell_type": "markdown",
      "source": [
        "It can also be used to replace elements inside the panda’s data frame.\n",
        "\n",
        "`np.where(data[feature].isnull(), 1, 0)`\n",
        "\n",
        "```\n",
        "Replace Null Values with 1 and other as 0\n",
        "```\n"
      ],
      "metadata": {
        "papermill": {
          "duration": 0.052453,
          "end_time": "2022-06-19T18:06:51.650651",
          "exception": false,
          "start_time": "2022-06-19T18:06:51.598198",
          "status": "completed"
        },
        "tags": [],
        "id": "F2oOl5DXVte2"
      }
    },
    {
      "cell_type": "markdown",
      "source": [
        "### 29. Put\n",
        "Replaces specified elements of an array with given values.![1_OWHgR8R6ilotQl9F-r-EFw.png](attachment:e905955a-3cc6-486b-be7e-88119def51d5.png)\n",
        "\n",
        "**▪▶ Important params**<br>\n",
        "`a`: array<br>\n",
        "`ind`: indices to be replaced.<br>\n",
        "`v`: values to place."
      ],
      "metadata": {
        "papermill": {
          "duration": 0.053151,
          "end_time": "2022-06-19T18:06:51.757242",
          "exception": false,
          "start_time": "2022-06-19T18:06:51.704091",
          "status": "completed"
        },
        "tags": [],
        "id": "UVChO2aBVte2"
      }
    },
    {
      "cell_type": "code",
      "source": [
        "arr = np.array([1,2,3,4,5,6])\n",
        "arr"
      ],
      "metadata": {
        "execution": {
          "iopub.execute_input": "2022-06-19T18:06:51.865604Z",
          "iopub.status.busy": "2022-06-19T18:06:51.864813Z",
          "iopub.status.idle": "2022-06-19T18:06:51.872777Z",
          "shell.execute_reply": "2022-06-19T18:06:51.8719Z"
        },
        "papermill": {
          "duration": 0.064999,
          "end_time": "2022-06-19T18:06:51.875247",
          "exception": false,
          "start_time": "2022-06-19T18:06:51.810248",
          "status": "completed"
        },
        "tags": [],
        "id": "V4Wsn1CHVte2",
        "outputId": "624dcf5f-6a64-4f6b-af68-13e3659ae456",
        "colab": {
          "base_uri": "https://localhost:8080/"
        }
      },
      "outputs": [
        {
          "output_type": "execute_result",
          "data": {
            "text/plain": [
              "array([1, 2, 3, 4, 5, 6])"
            ]
          },
          "metadata": {},
          "execution_count": 43
        }
      ],
      "execution_count": 43
    },
    {
      "cell_type": "code",
      "source": [
        "np.put(arr,[1,2],[6,7])\n",
        "arr"
      ],
      "metadata": {
        "execution": {
          "iopub.execute_input": "2022-06-19T18:06:51.982907Z",
          "iopub.status.busy": "2022-06-19T18:06:51.982486Z",
          "iopub.status.idle": "2022-06-19T18:06:51.989238Z",
          "shell.execute_reply": "2022-06-19T18:06:51.9882Z"
        },
        "papermill": {
          "duration": 0.063289,
          "end_time": "2022-06-19T18:06:51.991628",
          "exception": false,
          "start_time": "2022-06-19T18:06:51.928339",
          "status": "completed"
        },
        "tags": [],
        "id": "FtCnuekiVte3",
        "outputId": "ef5557ad-293e-4bcd-ee71-e9ff0c7b62e4",
        "colab": {
          "base_uri": "https://localhost:8080/"
        }
      },
      "outputs": [
        {
          "output_type": "execute_result",
          "data": {
            "text/plain": [
              "array([1, 6, 7, 4, 5, 6])"
            ]
          },
          "metadata": {},
          "execution_count": 44
        }
      ],
      "execution_count": 44
    },
    {
      "cell_type": "markdown",
      "source": [
        "### 30. Copyto\n",
        "Copy the content of one array into another.![1_4k6Jk560zf7P3Y_aZknLYg.png](attachment:6429a782-168a-4c7d-99db-65ec87658257.png)\n",
        "\n",
        "**▪▶Important params**<br>\n",
        "`dst`: array into which values are copied.<br>\n",
        "`src`: array from which values are copied.\n"
      ],
      "metadata": {
        "papermill": {
          "duration": 0.051929,
          "end_time": "2022-06-19T18:06:52.096272",
          "exception": false,
          "start_time": "2022-06-19T18:06:52.044343",
          "status": "completed"
        },
        "tags": [],
        "id": "muzyxUBrVte3"
      }
    },
    {
      "cell_type": "code",
      "source": [
        "arr1 = np.array([1,2,3])\n",
        "arr2 = np.array([4,5,6])\n",
        "print(\"Before arr1\",arr1)\n",
        "print(\"Before arr2\",arr1)\n",
        "np.copyto(arr1,arr2)\n",
        "print(\"After arr1\",arr1)\n",
        "print(\"After arr2\",arr2)"
      ],
      "metadata": {
        "execution": {
          "iopub.execute_input": "2022-06-19T18:06:52.205177Z",
          "iopub.status.busy": "2022-06-19T18:06:52.204411Z",
          "iopub.status.idle": "2022-06-19T18:06:52.213183Z",
          "shell.execute_reply": "2022-06-19T18:06:52.211931Z"
        },
        "papermill": {
          "duration": 0.066375,
          "end_time": "2022-06-19T18:06:52.215449",
          "exception": false,
          "start_time": "2022-06-19T18:06:52.149074",
          "status": "completed"
        },
        "tags": [],
        "id": "Q3nQLfU1Vte3",
        "outputId": "5628c7ec-34bd-4d62-d0ed-f137a3766a0c",
        "colab": {
          "base_uri": "https://localhost:8080/"
        }
      },
      "outputs": [
        {
          "output_type": "stream",
          "name": "stdout",
          "text": [
            "Before arr1 [1 2 3]\n",
            "Before arr2 [1 2 3]\n",
            "After arr1 [4 5 6]\n",
            "After arr2 [4 5 6]\n"
          ]
        }
      ],
      "execution_count": 45
    },
    {
      "cell_type": "markdown",
      "source": [
        "***"
      ],
      "metadata": {
        "papermill": {
          "duration": 0.053233,
          "end_time": "2022-06-19T18:06:52.32263",
          "exception": false,
          "start_time": "2022-06-19T18:06:52.269397",
          "status": "completed"
        },
        "tags": [],
        "id": "Ztsul0XVVte4"
      }
    },
    {
      "cell_type": "markdown",
      "source": [
        "## Set Operations"
      ],
      "metadata": {
        "papermill": {
          "duration": 0.053041,
          "end_time": "2022-06-19T18:06:52.429397",
          "exception": false,
          "start_time": "2022-06-19T18:06:52.376356",
          "status": "completed"
        },
        "tags": [],
        "id": "gAkstzucVte4"
      }
    },
    {
      "cell_type": "markdown",
      "source": [
        "### 31. Retrieve Common Elements\n",
        "`np.intersect1d` function returns all the unique values from both arrays in a sorted manner.![1_IT4B7lKwo7lqNMLeDoJVDA.png](attachment:133c4059-1755-4c56-b0ff-e544c1de2bbd.png)\n",
        "\n",
        "**▪▶Important params**<br>\n",
        "`assume_unique`: if true, then input arrays are both assumed to be unique.<br>\n",
        "`return_indices`: if true, then common elements indices are returned."
      ],
      "metadata": {
        "papermill": {
          "duration": 0.052389,
          "end_time": "2022-06-19T18:06:52.534367",
          "exception": false,
          "start_time": "2022-06-19T18:06:52.481978",
          "status": "completed"
        },
        "tags": [],
        "id": "gcfelbj8Vte4"
      }
    },
    {
      "cell_type": "code",
      "source": [
        "ar1 = np.array([1,2,3,4,5,6])\n",
        "ar2 = np.array([3,4,5,8,9,1])\n",
        "np.intersect1d(ar1,ar2)"
      ],
      "metadata": {
        "execution": {
          "iopub.execute_input": "2022-06-19T18:06:52.642479Z",
          "iopub.status.busy": "2022-06-19T18:06:52.641737Z",
          "iopub.status.idle": "2022-06-19T18:06:52.650164Z",
          "shell.execute_reply": "2022-06-19T18:06:52.649295Z"
        },
        "papermill": {
          "duration": 0.065094,
          "end_time": "2022-06-19T18:06:52.652279",
          "exception": false,
          "start_time": "2022-06-19T18:06:52.587185",
          "status": "completed"
        },
        "tags": [],
        "id": "OwLu2Yt6Vte4",
        "outputId": "c63bb4f8-5835-45d6-e895-eacd67329bc6",
        "colab": {
          "base_uri": "https://localhost:8080/"
        }
      },
      "outputs": [
        {
          "output_type": "execute_result",
          "data": {
            "text/plain": [
              "array([1, 3, 4, 5])"
            ]
          },
          "metadata": {},
          "execution_count": 46
        }
      ],
      "execution_count": 46
    },
    {
      "cell_type": "code",
      "source": [
        "np.intersect1d(ar1,ar2,return_indices=True)"
      ],
      "metadata": {
        "execution": {
          "iopub.execute_input": "2022-06-19T18:06:52.760991Z",
          "iopub.status.busy": "2022-06-19T18:06:52.760257Z",
          "iopub.status.idle": "2022-06-19T18:06:52.769725Z",
          "shell.execute_reply": "2022-06-19T18:06:52.7687Z"
        },
        "papermill": {
          "duration": 0.066232,
          "end_time": "2022-06-19T18:06:52.771901",
          "exception": false,
          "start_time": "2022-06-19T18:06:52.705669",
          "status": "completed"
        },
        "tags": [],
        "id": "6x1xfw4vVte5",
        "outputId": "be3e9cd0-8ba7-471c-f136-224d5ab311a6",
        "colab": {
          "base_uri": "https://localhost:8080/"
        }
      },
      "outputs": [
        {
          "output_type": "execute_result",
          "data": {
            "text/plain": [
              "(array([1, 3, 4, 5]), array([0, 2, 3, 4]), array([5, 0, 1, 2]))"
            ]
          },
          "metadata": {},
          "execution_count": 47
        }
      ],
      "execution_count": 47
    },
    {
      "cell_type": "markdown",
      "source": [
        "```\n",
        "array([0, 2, 3, 4], dtype=int64) :- Indices of common elements inside first array.\n",
        "array([5, 0, 1, 2], dtype=int64)) :- Indices of common elements inside second array.\n",
        "```"
      ],
      "metadata": {
        "papermill": {
          "duration": 0.053611,
          "end_time": "2022-06-19T18:06:52.878814",
          "exception": false,
          "start_time": "2022-06-19T18:06:52.825203",
          "status": "completed"
        },
        "tags": [],
        "id": "SYN_tv3CVte5"
      }
    },
    {
      "cell_type": "markdown",
      "source": [
        "### 32. Difference\n",
        "np.setdiff1d function returns all the unique elements from array 1 that are not present in arr2."
      ],
      "metadata": {
        "papermill": {
          "duration": 0.054527,
          "end_time": "2022-06-19T18:06:53.111163",
          "exception": false,
          "start_time": "2022-06-19T18:06:53.056636",
          "status": "completed"
        },
        "tags": [],
        "id": "fHW8YFBZVte5"
      }
    },
    {
      "cell_type": "code",
      "source": [
        "a = np.array([1, 7, 3, 2, 4, 1])\n",
        "b = np.array([9, 2, 5, 6, 7, 8])\n",
        "np.setdiff1d(a, b)"
      ],
      "metadata": {
        "execution": {
          "iopub.execute_input": "2022-06-19T18:06:53.226091Z",
          "iopub.status.busy": "2022-06-19T18:06:53.225295Z",
          "iopub.status.idle": "2022-06-19T18:06:53.234495Z",
          "shell.execute_reply": "2022-06-19T18:06:53.233452Z"
        },
        "papermill": {
          "duration": 0.070532,
          "end_time": "2022-06-19T18:06:53.237027",
          "exception": false,
          "start_time": "2022-06-19T18:06:53.166495",
          "status": "completed"
        },
        "tags": [],
        "id": "bNI3mZEvVte5",
        "outputId": "6d2ebcd4-dcd1-4a2a-a4ac-979cd511bcde",
        "colab": {
          "base_uri": "https://localhost:8080/"
        }
      },
      "outputs": [
        {
          "output_type": "execute_result",
          "data": {
            "text/plain": [
              "array([1, 3, 4])"
            ]
          },
          "metadata": {},
          "execution_count": 48
        }
      ],
      "execution_count": 48
    },
    {
      "cell_type": "markdown",
      "source": [
        "### 33. Extracts Unique Elements From Both Arrays\n",
        "`setxor1d` function will return all the unique values from both arrays in sorted order."
      ],
      "metadata": {
        "papermill": {
          "duration": 0.053512,
          "end_time": "2022-06-19T18:06:53.345881",
          "exception": false,
          "start_time": "2022-06-19T18:06:53.292369",
          "status": "completed"
        },
        "tags": [],
        "id": "tDhmy_8_Vte6"
      }
    },
    {
      "cell_type": "code",
      "source": [
        "a = np.array([1, 2, 3, 4, 6])\n",
        "b = np.array([1, 4, 9, 4, 36])\n",
        "np.setxor1d(a,b)"
      ],
      "metadata": {
        "execution": {
          "iopub.execute_input": "2022-06-19T18:06:53.455892Z",
          "iopub.status.busy": "2022-06-19T18:06:53.454746Z",
          "iopub.status.idle": "2022-06-19T18:06:53.46265Z",
          "shell.execute_reply": "2022-06-19T18:06:53.461972Z"
        },
        "papermill": {
          "duration": 0.065235,
          "end_time": "2022-06-19T18:06:53.464586",
          "exception": false,
          "start_time": "2022-06-19T18:06:53.399351",
          "status": "completed"
        },
        "tags": [],
        "id": "C6dkubwFVte6",
        "outputId": "73d636b2-7f8f-4d59-d2d1-a5e36f8d70d6",
        "colab": {
          "base_uri": "https://localhost:8080/"
        }
      },
      "outputs": [
        {
          "output_type": "execute_result",
          "data": {
            "text/plain": [
              "array([ 2,  3,  6,  9, 36])"
            ]
          },
          "metadata": {},
          "execution_count": 49
        }
      ],
      "execution_count": 49
    },
    {
      "cell_type": "markdown",
      "source": [
        "### 34. Union\n",
        "union1d function will combine both arrays into one."
      ],
      "metadata": {
        "papermill": {
          "duration": 0.053082,
          "end_time": "2022-06-19T18:06:53.57102",
          "exception": false,
          "start_time": "2022-06-19T18:06:53.517938",
          "status": "completed"
        },
        "tags": [],
        "id": "duwr6rH0Vte6"
      }
    },
    {
      "cell_type": "code",
      "source": [
        "a = np.array([1, 2, 3, 4, 5])\n",
        "b = np.array([1, 3, 5, 4, 36])\n",
        "np.union1d(a,b)"
      ],
      "metadata": {
        "execution": {
          "iopub.execute_input": "2022-06-19T18:06:53.680473Z",
          "iopub.status.busy": "2022-06-19T18:06:53.679795Z",
          "iopub.status.idle": "2022-06-19T18:06:53.686539Z",
          "shell.execute_reply": "2022-06-19T18:06:53.685902Z"
        },
        "papermill": {
          "duration": 0.063254,
          "end_time": "2022-06-19T18:06:53.688463",
          "exception": false,
          "start_time": "2022-06-19T18:06:53.625209",
          "status": "completed"
        },
        "tags": [],
        "id": "7-Ji49B4Vte6",
        "outputId": "02a2b5c8-c95f-4ccb-ace1-66f10e1083f3",
        "colab": {
          "base_uri": "https://localhost:8080/"
        }
      },
      "outputs": [
        {
          "output_type": "execute_result",
          "data": {
            "text/plain": [
              "array([ 1,  2,  3,  4,  5, 36])"
            ]
          },
          "metadata": {},
          "execution_count": 50
        }
      ],
      "execution_count": 50
    },
    {
      "cell_type": "markdown",
      "source": [
        "***"
      ],
      "metadata": {
        "papermill": {
          "duration": 0.053569,
          "end_time": "2022-06-19T18:06:53.795621",
          "exception": false,
          "start_time": "2022-06-19T18:06:53.742052",
          "status": "completed"
        },
        "tags": [],
        "id": "qz2_AE-2Vte7"
      }
    },
    {
      "cell_type": "markdown",
      "source": [
        "## Splitting\n",
        "### 35. Horizontal Split\n",
        "`hsplit` function will split the data horizontally into n equal parts."
      ],
      "metadata": {
        "papermill": {
          "duration": 0.053311,
          "end_time": "2022-06-19T18:06:53.903088",
          "exception": false,
          "start_time": "2022-06-19T18:06:53.849777",
          "status": "completed"
        },
        "tags": [],
        "id": "tfVCEk9vVte7"
      }
    },
    {
      "cell_type": "code",
      "source": [
        "A = np.array([[3,4,5,2],[6,7,2,6]])\n",
        "np.hsplit(A,2)    ## splits the data into two equal parts"
      ],
      "metadata": {
        "execution": {
          "iopub.execute_input": "2022-06-19T18:06:54.01308Z",
          "iopub.status.busy": "2022-06-19T18:06:54.012338Z",
          "iopub.status.idle": "2022-06-19T18:06:54.019508Z",
          "shell.execute_reply": "2022-06-19T18:06:54.018743Z"
        },
        "papermill": {
          "duration": 0.064504,
          "end_time": "2022-06-19T18:06:54.021433",
          "exception": false,
          "start_time": "2022-06-19T18:06:53.956929",
          "status": "completed"
        },
        "tags": [],
        "id": "uPQfLlmVVte7",
        "outputId": "11c6333f-204d-4593-c881-2faeadaa9940",
        "colab": {
          "base_uri": "https://localhost:8080/"
        }
      },
      "outputs": [
        {
          "output_type": "execute_result",
          "data": {
            "text/plain": [
              "[array([[3, 4],\n",
              "        [6, 7]]),\n",
              " array([[5, 2],\n",
              "        [2, 6]])]"
            ]
          },
          "metadata": {},
          "execution_count": 51
        }
      ],
      "execution_count": 51
    },
    {
      "cell_type": "code",
      "source": [
        "np.hsplit(A,4)    ## splits the data into four equal parts"
      ],
      "metadata": {
        "execution": {
          "iopub.execute_input": "2022-06-19T18:06:54.129829Z",
          "iopub.status.busy": "2022-06-19T18:06:54.129223Z",
          "iopub.status.idle": "2022-06-19T18:06:54.135601Z",
          "shell.execute_reply": "2022-06-19T18:06:54.13478Z"
        },
        "papermill": {
          "duration": 0.0629,
          "end_time": "2022-06-19T18:06:54.1375",
          "exception": false,
          "start_time": "2022-06-19T18:06:54.0746",
          "status": "completed"
        },
        "tags": [],
        "id": "-U5eceQtVte7",
        "outputId": "d2c05c21-9934-4516-8bf9-58ef8e795046",
        "colab": {
          "base_uri": "https://localhost:8080/"
        }
      },
      "outputs": [
        {
          "output_type": "execute_result",
          "data": {
            "text/plain": [
              "[array([[3],\n",
              "        [6]]),\n",
              " array([[4],\n",
              "        [7]]),\n",
              " array([[5],\n",
              "        [2]]),\n",
              " array([[2],\n",
              "        [6]])]"
            ]
          },
          "metadata": {},
          "execution_count": 52
        }
      ],
      "execution_count": 52
    },
    {
      "cell_type": "markdown",
      "source": [
        "### 36. Vertical Split\n",
        "vsplit will split the data vertically into n equal parts."
      ],
      "metadata": {
        "papermill": {
          "duration": 0.07391,
          "end_time": "2022-06-19T18:06:54.273004",
          "exception": false,
          "start_time": "2022-06-19T18:06:54.199094",
          "status": "completed"
        },
        "tags": [],
        "id": "41hzsSm_Vte8"
      }
    },
    {
      "cell_type": "code",
      "source": [
        "A = np.array([[3,4,5,2],[6,7,2,6]])\n",
        "np.vsplit(A,2)"
      ],
      "metadata": {
        "execution": {
          "iopub.execute_input": "2022-06-19T18:06:54.384996Z",
          "iopub.status.busy": "2022-06-19T18:06:54.384253Z",
          "iopub.status.idle": "2022-06-19T18:06:54.392167Z",
          "shell.execute_reply": "2022-06-19T18:06:54.39123Z"
        },
        "papermill": {
          "duration": 0.065059,
          "end_time": "2022-06-19T18:06:54.394277",
          "exception": false,
          "start_time": "2022-06-19T18:06:54.329218",
          "status": "completed"
        },
        "tags": [],
        "id": "TpMR2OKWVte8",
        "outputId": "b5364d68-e6f4-4c7d-a3de-6ad1073f2897",
        "colab": {
          "base_uri": "https://localhost:8080/"
        }
      },
      "outputs": [
        {
          "output_type": "execute_result",
          "data": {
            "text/plain": [
              "[array([[3, 4, 5, 2]]), array([[6, 7, 2, 6]])]"
            ]
          },
          "metadata": {},
          "execution_count": 53
        }
      ],
      "execution_count": 53
    },
    {
      "cell_type": "markdown",
      "source": [
        "***"
      ],
      "metadata": {
        "papermill": {
          "duration": 0.053919,
          "end_time": "2022-06-19T18:06:54.501903",
          "exception": false,
          "start_time": "2022-06-19T18:06:54.447984",
          "status": "completed"
        },
        "tags": [],
        "id": "7cMQhWPFVte8"
      }
    },
    {
      "cell_type": "markdown",
      "source": [
        "## Stacking"
      ],
      "metadata": {
        "papermill": {
          "duration": 0.054112,
          "end_time": "2022-06-19T18:06:54.610379",
          "exception": false,
          "start_time": "2022-06-19T18:06:54.556267",
          "status": "completed"
        },
        "tags": [],
        "id": "HQtdq1OwVte8"
      }
    },
    {
      "cell_type": "markdown",
      "source": [
        "### 37. Horizontal Stacking\n",
        "`hstack` will stack appends one array at the end of another."
      ],
      "metadata": {
        "papermill": {
          "duration": 0.053566,
          "end_time": "2022-06-19T18:06:54.718278",
          "exception": false,
          "start_time": "2022-06-19T18:06:54.664712",
          "status": "completed"
        },
        "tags": [],
        "id": "-9VJdoTKVte9"
      }
    },
    {
      "cell_type": "code",
      "source": [
        "a = np.array([1,2,3,4,5])\n",
        "b = np.array([1,4,9,16,25])\n",
        "np.hstack((a,b))"
      ],
      "metadata": {
        "execution": {
          "iopub.execute_input": "2022-06-19T18:06:54.828629Z",
          "iopub.status.busy": "2022-06-19T18:06:54.827891Z",
          "iopub.status.idle": "2022-06-19T18:06:54.836059Z",
          "shell.execute_reply": "2022-06-19T18:06:54.835163Z"
        },
        "papermill": {
          "duration": 0.065152,
          "end_time": "2022-06-19T18:06:54.838176",
          "exception": false,
          "start_time": "2022-06-19T18:06:54.773024",
          "status": "completed"
        },
        "tags": [],
        "id": "hlcFWpVHVte9",
        "outputId": "7b2b9ef7-866b-4de3-a584-131db36aa036",
        "colab": {
          "base_uri": "https://localhost:8080/"
        }
      },
      "outputs": [
        {
          "output_type": "execute_result",
          "data": {
            "text/plain": [
              "array([ 1,  2,  3,  4,  5,  1,  4,  9, 16, 25])"
            ]
          },
          "metadata": {},
          "execution_count": 54
        }
      ],
      "execution_count": 54
    },
    {
      "cell_type": "markdown",
      "source": [
        "### 38. Vertical Stacking\n",
        "`vstack` will stack one array on top of another."
      ],
      "metadata": {
        "papermill": {
          "duration": 0.054202,
          "end_time": "2022-06-19T18:06:54.946521",
          "exception": false,
          "start_time": "2022-06-19T18:06:54.892319",
          "status": "completed"
        },
        "tags": [],
        "id": "6srN_CwiVte9"
      }
    },
    {
      "cell_type": "code",
      "source": [
        "np.vstack((a,b))"
      ],
      "metadata": {
        "execution": {
          "iopub.execute_input": "2022-06-19T18:06:55.058753Z",
          "iopub.status.busy": "2022-06-19T18:06:55.057998Z",
          "iopub.status.idle": "2022-06-19T18:06:55.065283Z",
          "shell.execute_reply": "2022-06-19T18:06:55.064293Z"
        },
        "papermill": {
          "duration": 0.065957,
          "end_time": "2022-06-19T18:06:55.067398",
          "exception": false,
          "start_time": "2022-06-19T18:06:55.001441",
          "status": "completed"
        },
        "tags": [],
        "id": "KLbmQK4WVte9",
        "outputId": "e5f9ca8b-4dcc-43da-9548-648e5183fd2c",
        "colab": {
          "base_uri": "https://localhost:8080/"
        }
      },
      "outputs": [
        {
          "output_type": "execute_result",
          "data": {
            "text/plain": [
              "array([[ 1,  2,  3,  4,  5],\n",
              "       [ 1,  4,  9, 16, 25]])"
            ]
          },
          "metadata": {},
          "execution_count": 55
        }
      ],
      "execution_count": 55
    },
    {
      "cell_type": "markdown",
      "source": [
        "***"
      ],
      "metadata": {
        "papermill": {
          "duration": 0.055317,
          "end_time": "2022-06-19T18:06:55.177538",
          "exception": false,
          "start_time": "2022-06-19T18:06:55.122221",
          "status": "completed"
        },
        "tags": [],
        "id": "QTJUqtFBVte-"
      }
    },
    {
      "cell_type": "markdown",
      "source": [
        "## Comparing Two Arrays"
      ],
      "metadata": {
        "papermill": {
          "duration": 0.055204,
          "end_time": "2022-06-19T18:06:55.288537",
          "exception": false,
          "start_time": "2022-06-19T18:06:55.233333",
          "status": "completed"
        },
        "tags": [],
        "id": "mfm9RImxVte-"
      }
    },
    {
      "cell_type": "markdown",
      "source": [
        "### 39. allclose\n",
        "`np.allclose` function finds whether two arrays are equal or approximately equal to each other based on some tolerance value if the shape of both arrays is the same."
      ],
      "metadata": {
        "papermill": {
          "duration": 0.054224,
          "end_time": "2022-06-19T18:06:55.396991",
          "exception": false,
          "start_time": "2022-06-19T18:06:55.342767",
          "status": "completed"
        },
        "tags": [],
        "id": "BoFAQk2ZVte-"
      }
    },
    {
      "cell_type": "code",
      "source": [
        "a = np.array([0.25,0.4,0.6,0.32])\n",
        "b = np.array([0.26,0.3,0.7,0.32])\n",
        "tolerance = 0.1           ## Total Difference\n",
        "np.allclose(a,b,tolerance)"
      ],
      "metadata": {
        "execution": {
          "iopub.execute_input": "2022-06-19T18:06:55.507469Z",
          "iopub.status.busy": "2022-06-19T18:06:55.506739Z",
          "iopub.status.idle": "2022-06-19T18:06:55.515135Z",
          "shell.execute_reply": "2022-06-19T18:06:55.514186Z"
        },
        "papermill": {
          "duration": 0.065698,
          "end_time": "2022-06-19T18:06:55.517242",
          "exception": false,
          "start_time": "2022-06-19T18:06:55.451544",
          "status": "completed"
        },
        "tags": [],
        "id": "boYDY5fRVte-",
        "outputId": "3a47964c-366f-4d61-c306-e824cf3cec45",
        "colab": {
          "base_uri": "https://localhost:8080/"
        }
      },
      "outputs": [
        {
          "output_type": "execute_result",
          "data": {
            "text/plain": [
              "False"
            ]
          },
          "metadata": {},
          "execution_count": 56
        }
      ],
      "execution_count": 56
    },
    {
      "cell_type": "code",
      "source": [
        "tolerance = 0.5\n",
        "np.allclose(a,b,tolerance)"
      ],
      "metadata": {
        "execution": {
          "iopub.execute_input": "2022-06-19T18:06:55.62689Z",
          "iopub.status.busy": "2022-06-19T18:06:55.626167Z",
          "iopub.status.idle": "2022-06-19T18:06:55.633368Z",
          "shell.execute_reply": "2022-06-19T18:06:55.632289Z"
        },
        "papermill": {
          "duration": 0.064248,
          "end_time": "2022-06-19T18:06:55.635433",
          "exception": false,
          "start_time": "2022-06-19T18:06:55.571185",
          "status": "completed"
        },
        "tags": [],
        "id": "y9X9jh-lVtfD",
        "outputId": "b17fc323-46c7-4dff-8757-3ae77eecaf00",
        "colab": {
          "base_uri": "https://localhost:8080/"
        }
      },
      "outputs": [
        {
          "output_type": "execute_result",
          "data": {
            "text/plain": [
              "True"
            ]
          },
          "metadata": {},
          "execution_count": 57
        }
      ],
      "execution_count": 57
    },
    {
      "cell_type": "markdown",
      "source": [
        "### 40. Repeat\n",
        "It is used to repeat elements of an array for n number of times.\n",
        "![1_-P7D8NAOfMbQ5edIC6De2w.png](attachment:2dbb82c7-7cda-4930-a99e-553b343fa635.png)\n",
        "\n",
        "**▪▶ Important params**<br>\n",
        "`a`: element to repeat.<br>\n",
        "`repeats`: number of times to repeat element."
      ],
      "metadata": {
        "papermill": {
          "duration": 0.053976,
          "end_time": "2022-06-19T18:06:55.742925",
          "exception": false,
          "start_time": "2022-06-19T18:06:55.688949",
          "status": "completed"
        },
        "tags": [],
        "id": "fDxcqFDnVtfD"
      }
    },
    {
      "cell_type": "code",
      "source": [
        "np.repeat('2017',3)"
      ],
      "metadata": {
        "execution": {
          "iopub.execute_input": "2022-06-19T18:06:55.853111Z",
          "iopub.status.busy": "2022-06-19T18:06:55.852689Z",
          "iopub.status.idle": "2022-06-19T18:06:55.859093Z",
          "shell.execute_reply": "2022-06-19T18:06:55.858046Z"
        },
        "papermill": {
          "duration": 0.064579,
          "end_time": "2022-06-19T18:06:55.861506",
          "exception": false,
          "start_time": "2022-06-19T18:06:55.796927",
          "status": "completed"
        },
        "tags": [],
        "id": "vhMorY0cVtfE",
        "outputId": "b88ed784-a3d1-4fbc-8112-029e96e6a7b0",
        "colab": {
          "base_uri": "https://localhost:8080/"
        }
      },
      "outputs": [
        {
          "output_type": "execute_result",
          "data": {
            "text/plain": [
              "array(['2017', '2017', '2017'], dtype='<U4')"
            ]
          },
          "metadata": {},
          "execution_count": 58
        }
      ],
      "execution_count": 58
    },
    {
      "cell_type": "markdown",
      "source": [
        "Let’s take a more practical use case example, we have a dataset containing year-wise container quantity sales."
      ],
      "metadata": {
        "papermill": {
          "duration": 0.056355,
          "end_time": "2022-06-19T18:06:55.972391",
          "exception": false,
          "start_time": "2022-06-19T18:06:55.916036",
          "status": "completed"
        },
        "tags": [],
        "id": "WBLdH7hHVtfE"
      }
    },
    {
      "cell_type": "code",
      "source": [
        "fruits = pd.DataFrame([\n",
        "    ['Mango',40],\n",
        "    ['Apple',90],\n",
        "    ['Banana',130]\n",
        "],columns=['Product','ContainerSales'])\n",
        "fruits"
      ],
      "metadata": {
        "execution": {
          "iopub.execute_input": "2022-06-19T18:06:56.082896Z",
          "iopub.status.busy": "2022-06-19T18:06:56.082471Z",
          "iopub.status.idle": "2022-06-19T18:06:56.098238Z",
          "shell.execute_reply": "2022-06-19T18:06:56.097509Z"
        },
        "papermill": {
          "duration": 0.073368,
          "end_time": "2022-06-19T18:06:56.100397",
          "exception": false,
          "start_time": "2022-06-19T18:06:56.027029",
          "status": "completed"
        },
        "tags": [],
        "id": "P3CYCnecVtfE",
        "outputId": "a88d8382-6c71-4ac7-f8a8-3fc304cb480a",
        "colab": {
          "base_uri": "https://localhost:8080/",
          "height": 143
        }
      },
      "outputs": [
        {
          "output_type": "execute_result",
          "data": {
            "text/plain": [
              "  Product  ContainerSales\n",
              "0   Mango              40\n",
              "1   Apple              90\n",
              "2  Banana             130"
            ],
            "text/html": [
              "\n",
              "  <div id=\"df-0b4ac7a9-1a40-4b3d-bf4f-c99ae8ce5a14\" class=\"colab-df-container\">\n",
              "    <div>\n",
              "<style scoped>\n",
              "    .dataframe tbody tr th:only-of-type {\n",
              "        vertical-align: middle;\n",
              "    }\n",
              "\n",
              "    .dataframe tbody tr th {\n",
              "        vertical-align: top;\n",
              "    }\n",
              "\n",
              "    .dataframe thead th {\n",
              "        text-align: right;\n",
              "    }\n",
              "</style>\n",
              "<table border=\"1\" class=\"dataframe\">\n",
              "  <thead>\n",
              "    <tr style=\"text-align: right;\">\n",
              "      <th></th>\n",
              "      <th>Product</th>\n",
              "      <th>ContainerSales</th>\n",
              "    </tr>\n",
              "  </thead>\n",
              "  <tbody>\n",
              "    <tr>\n",
              "      <th>0</th>\n",
              "      <td>Mango</td>\n",
              "      <td>40</td>\n",
              "    </tr>\n",
              "    <tr>\n",
              "      <th>1</th>\n",
              "      <td>Apple</td>\n",
              "      <td>90</td>\n",
              "    </tr>\n",
              "    <tr>\n",
              "      <th>2</th>\n",
              "      <td>Banana</td>\n",
              "      <td>130</td>\n",
              "    </tr>\n",
              "  </tbody>\n",
              "</table>\n",
              "</div>\n",
              "    <div class=\"colab-df-buttons\">\n",
              "\n",
              "  <div class=\"colab-df-container\">\n",
              "    <button class=\"colab-df-convert\" onclick=\"convertToInteractive('df-0b4ac7a9-1a40-4b3d-bf4f-c99ae8ce5a14')\"\n",
              "            title=\"Convert this dataframe to an interactive table.\"\n",
              "            style=\"display:none;\">\n",
              "\n",
              "  <svg xmlns=\"http://www.w3.org/2000/svg\" height=\"24px\" viewBox=\"0 -960 960 960\">\n",
              "    <path d=\"M120-120v-720h720v720H120Zm60-500h600v-160H180v160Zm220 220h160v-160H400v160Zm0 220h160v-160H400v160ZM180-400h160v-160H180v160Zm440 0h160v-160H620v160ZM180-180h160v-160H180v160Zm440 0h160v-160H620v160Z\"/>\n",
              "  </svg>\n",
              "    </button>\n",
              "\n",
              "  <style>\n",
              "    .colab-df-container {\n",
              "      display:flex;\n",
              "      gap: 12px;\n",
              "    }\n",
              "\n",
              "    .colab-df-convert {\n",
              "      background-color: #E8F0FE;\n",
              "      border: none;\n",
              "      border-radius: 50%;\n",
              "      cursor: pointer;\n",
              "      display: none;\n",
              "      fill: #1967D2;\n",
              "      height: 32px;\n",
              "      padding: 0 0 0 0;\n",
              "      width: 32px;\n",
              "    }\n",
              "\n",
              "    .colab-df-convert:hover {\n",
              "      background-color: #E2EBFA;\n",
              "      box-shadow: 0px 1px 2px rgba(60, 64, 67, 0.3), 0px 1px 3px 1px rgba(60, 64, 67, 0.15);\n",
              "      fill: #174EA6;\n",
              "    }\n",
              "\n",
              "    .colab-df-buttons div {\n",
              "      margin-bottom: 4px;\n",
              "    }\n",
              "\n",
              "    [theme=dark] .colab-df-convert {\n",
              "      background-color: #3B4455;\n",
              "      fill: #D2E3FC;\n",
              "    }\n",
              "\n",
              "    [theme=dark] .colab-df-convert:hover {\n",
              "      background-color: #434B5C;\n",
              "      box-shadow: 0px 1px 3px 1px rgba(0, 0, 0, 0.15);\n",
              "      filter: drop-shadow(0px 1px 2px rgba(0, 0, 0, 0.3));\n",
              "      fill: #FFFFFF;\n",
              "    }\n",
              "  </style>\n",
              "\n",
              "    <script>\n",
              "      const buttonEl =\n",
              "        document.querySelector('#df-0b4ac7a9-1a40-4b3d-bf4f-c99ae8ce5a14 button.colab-df-convert');\n",
              "      buttonEl.style.display =\n",
              "        google.colab.kernel.accessAllowed ? 'block' : 'none';\n",
              "\n",
              "      async function convertToInteractive(key) {\n",
              "        const element = document.querySelector('#df-0b4ac7a9-1a40-4b3d-bf4f-c99ae8ce5a14');\n",
              "        const dataTable =\n",
              "          await google.colab.kernel.invokeFunction('convertToInteractive',\n",
              "                                                    [key], {});\n",
              "        if (!dataTable) return;\n",
              "\n",
              "        const docLinkHtml = 'Like what you see? Visit the ' +\n",
              "          '<a target=\"_blank\" href=https://colab.research.google.com/notebooks/data_table.ipynb>data table notebook</a>'\n",
              "          + ' to learn more about interactive tables.';\n",
              "        element.innerHTML = '';\n",
              "        dataTable['output_type'] = 'display_data';\n",
              "        await google.colab.output.renderOutput(dataTable, element);\n",
              "        const docLink = document.createElement('div');\n",
              "        docLink.innerHTML = docLinkHtml;\n",
              "        element.appendChild(docLink);\n",
              "      }\n",
              "    </script>\n",
              "  </div>\n",
              "\n",
              "\n",
              "<div id=\"df-26fddd76-5f4d-4b15-8a9c-abf3a5cc5f51\">\n",
              "  <button class=\"colab-df-quickchart\" onclick=\"quickchart('df-26fddd76-5f4d-4b15-8a9c-abf3a5cc5f51')\"\n",
              "            title=\"Suggest charts\"\n",
              "            style=\"display:none;\">\n",
              "\n",
              "<svg xmlns=\"http://www.w3.org/2000/svg\" height=\"24px\"viewBox=\"0 0 24 24\"\n",
              "     width=\"24px\">\n",
              "    <g>\n",
              "        <path d=\"M19 3H5c-1.1 0-2 .9-2 2v14c0 1.1.9 2 2 2h14c1.1 0 2-.9 2-2V5c0-1.1-.9-2-2-2zM9 17H7v-7h2v7zm4 0h-2V7h2v10zm4 0h-2v-4h2v4z\"/>\n",
              "    </g>\n",
              "</svg>\n",
              "  </button>\n",
              "\n",
              "<style>\n",
              "  .colab-df-quickchart {\n",
              "      --bg-color: #E8F0FE;\n",
              "      --fill-color: #1967D2;\n",
              "      --hover-bg-color: #E2EBFA;\n",
              "      --hover-fill-color: #174EA6;\n",
              "      --disabled-fill-color: #AAA;\n",
              "      --disabled-bg-color: #DDD;\n",
              "  }\n",
              "\n",
              "  [theme=dark] .colab-df-quickchart {\n",
              "      --bg-color: #3B4455;\n",
              "      --fill-color: #D2E3FC;\n",
              "      --hover-bg-color: #434B5C;\n",
              "      --hover-fill-color: #FFFFFF;\n",
              "      --disabled-bg-color: #3B4455;\n",
              "      --disabled-fill-color: #666;\n",
              "  }\n",
              "\n",
              "  .colab-df-quickchart {\n",
              "    background-color: var(--bg-color);\n",
              "    border: none;\n",
              "    border-radius: 50%;\n",
              "    cursor: pointer;\n",
              "    display: none;\n",
              "    fill: var(--fill-color);\n",
              "    height: 32px;\n",
              "    padding: 0;\n",
              "    width: 32px;\n",
              "  }\n",
              "\n",
              "  .colab-df-quickchart:hover {\n",
              "    background-color: var(--hover-bg-color);\n",
              "    box-shadow: 0 1px 2px rgba(60, 64, 67, 0.3), 0 1px 3px 1px rgba(60, 64, 67, 0.15);\n",
              "    fill: var(--button-hover-fill-color);\n",
              "  }\n",
              "\n",
              "  .colab-df-quickchart-complete:disabled,\n",
              "  .colab-df-quickchart-complete:disabled:hover {\n",
              "    background-color: var(--disabled-bg-color);\n",
              "    fill: var(--disabled-fill-color);\n",
              "    box-shadow: none;\n",
              "  }\n",
              "\n",
              "  .colab-df-spinner {\n",
              "    border: 2px solid var(--fill-color);\n",
              "    border-color: transparent;\n",
              "    border-bottom-color: var(--fill-color);\n",
              "    animation:\n",
              "      spin 1s steps(1) infinite;\n",
              "  }\n",
              "\n",
              "  @keyframes spin {\n",
              "    0% {\n",
              "      border-color: transparent;\n",
              "      border-bottom-color: var(--fill-color);\n",
              "      border-left-color: var(--fill-color);\n",
              "    }\n",
              "    20% {\n",
              "      border-color: transparent;\n",
              "      border-left-color: var(--fill-color);\n",
              "      border-top-color: var(--fill-color);\n",
              "    }\n",
              "    30% {\n",
              "      border-color: transparent;\n",
              "      border-left-color: var(--fill-color);\n",
              "      border-top-color: var(--fill-color);\n",
              "      border-right-color: var(--fill-color);\n",
              "    }\n",
              "    40% {\n",
              "      border-color: transparent;\n",
              "      border-right-color: var(--fill-color);\n",
              "      border-top-color: var(--fill-color);\n",
              "    }\n",
              "    60% {\n",
              "      border-color: transparent;\n",
              "      border-right-color: var(--fill-color);\n",
              "    }\n",
              "    80% {\n",
              "      border-color: transparent;\n",
              "      border-right-color: var(--fill-color);\n",
              "      border-bottom-color: var(--fill-color);\n",
              "    }\n",
              "    90% {\n",
              "      border-color: transparent;\n",
              "      border-bottom-color: var(--fill-color);\n",
              "    }\n",
              "  }\n",
              "</style>\n",
              "\n",
              "  <script>\n",
              "    async function quickchart(key) {\n",
              "      const quickchartButtonEl =\n",
              "        document.querySelector('#' + key + ' button');\n",
              "      quickchartButtonEl.disabled = true;  // To prevent multiple clicks.\n",
              "      quickchartButtonEl.classList.add('colab-df-spinner');\n",
              "      try {\n",
              "        const charts = await google.colab.kernel.invokeFunction(\n",
              "            'suggestCharts', [key], {});\n",
              "      } catch (error) {\n",
              "        console.error('Error during call to suggestCharts:', error);\n",
              "      }\n",
              "      quickchartButtonEl.classList.remove('colab-df-spinner');\n",
              "      quickchartButtonEl.classList.add('colab-df-quickchart-complete');\n",
              "    }\n",
              "    (() => {\n",
              "      let quickchartButtonEl =\n",
              "        document.querySelector('#df-26fddd76-5f4d-4b15-8a9c-abf3a5cc5f51 button');\n",
              "      quickchartButtonEl.style.display =\n",
              "        google.colab.kernel.accessAllowed ? 'block' : 'none';\n",
              "    })();\n",
              "  </script>\n",
              "</div>\n",
              "\n",
              "  <div id=\"id_e9d40921-4129-497c-b5d2-dc76ef49eb92\">\n",
              "    <style>\n",
              "      .colab-df-generate {\n",
              "        background-color: #E8F0FE;\n",
              "        border: none;\n",
              "        border-radius: 50%;\n",
              "        cursor: pointer;\n",
              "        display: none;\n",
              "        fill: #1967D2;\n",
              "        height: 32px;\n",
              "        padding: 0 0 0 0;\n",
              "        width: 32px;\n",
              "      }\n",
              "\n",
              "      .colab-df-generate:hover {\n",
              "        background-color: #E2EBFA;\n",
              "        box-shadow: 0px 1px 2px rgba(60, 64, 67, 0.3), 0px 1px 3px 1px rgba(60, 64, 67, 0.15);\n",
              "        fill: #174EA6;\n",
              "      }\n",
              "\n",
              "      [theme=dark] .colab-df-generate {\n",
              "        background-color: #3B4455;\n",
              "        fill: #D2E3FC;\n",
              "      }\n",
              "\n",
              "      [theme=dark] .colab-df-generate:hover {\n",
              "        background-color: #434B5C;\n",
              "        box-shadow: 0px 1px 3px 1px rgba(0, 0, 0, 0.15);\n",
              "        filter: drop-shadow(0px 1px 2px rgba(0, 0, 0, 0.3));\n",
              "        fill: #FFFFFF;\n",
              "      }\n",
              "    </style>\n",
              "    <button class=\"colab-df-generate\" onclick=\"generateWithVariable('fruits')\"\n",
              "            title=\"Generate code using this dataframe.\"\n",
              "            style=\"display:none;\">\n",
              "\n",
              "  <svg xmlns=\"http://www.w3.org/2000/svg\" height=\"24px\"viewBox=\"0 0 24 24\"\n",
              "       width=\"24px\">\n",
              "    <path d=\"M7,19H8.4L18.45,9,17,7.55,7,17.6ZM5,21V16.75L18.45,3.32a2,2,0,0,1,2.83,0l1.4,1.43a1.91,1.91,0,0,1,.58,1.4,1.91,1.91,0,0,1-.58,1.4L9.25,21ZM18.45,9,17,7.55Zm-12,3A5.31,5.31,0,0,0,4.9,8.1,5.31,5.31,0,0,0,1,6.5,5.31,5.31,0,0,0,4.9,4.9,5.31,5.31,0,0,0,6.5,1,5.31,5.31,0,0,0,8.1,4.9,5.31,5.31,0,0,0,12,6.5,5.46,5.46,0,0,0,6.5,12Z\"/>\n",
              "  </svg>\n",
              "    </button>\n",
              "    <script>\n",
              "      (() => {\n",
              "      const buttonEl =\n",
              "        document.querySelector('#id_e9d40921-4129-497c-b5d2-dc76ef49eb92 button.colab-df-generate');\n",
              "      buttonEl.style.display =\n",
              "        google.colab.kernel.accessAllowed ? 'block' : 'none';\n",
              "\n",
              "      buttonEl.onclick = () => {\n",
              "        google.colab.notebook.generateWithVariable('fruits');\n",
              "      }\n",
              "      })();\n",
              "    </script>\n",
              "  </div>\n",
              "\n",
              "    </div>\n",
              "  </div>\n"
            ],
            "application/vnd.google.colaboratory.intrinsic+json": {
              "type": "dataframe",
              "variable_name": "fruits",
              "summary": "{\n  \"name\": \"fruits\",\n  \"rows\": 3,\n  \"fields\": [\n    {\n      \"column\": \"Product\",\n      \"properties\": {\n        \"dtype\": \"string\",\n        \"num_unique_values\": 3,\n        \"samples\": [\n          \"Mango\",\n          \"Apple\",\n          \"Banana\"\n        ],\n        \"semantic_type\": \"\",\n        \"description\": \"\"\n      }\n    },\n    {\n      \"column\": \"ContainerSales\",\n      \"properties\": {\n        \"dtype\": \"number\",\n        \"std\": 45,\n        \"min\": 40,\n        \"max\": 130,\n        \"num_unique_values\": 3,\n        \"samples\": [\n          40,\n          90,\n          130\n        ],\n        \"semantic_type\": \"\",\n        \"description\": \"\"\n      }\n    }\n  ]\n}"
            }
          },
          "metadata": {},
          "execution_count": 59
        }
      ],
      "execution_count": 59
    },
    {
      "cell_type": "markdown",
      "source": [
        "In the dataset, the year column is missing. Let’s try to add it using numpy."
      ],
      "metadata": {
        "papermill": {
          "duration": 0.055883,
          "end_time": "2022-06-19T18:06:56.211795",
          "exception": false,
          "start_time": "2022-06-19T18:06:56.155912",
          "status": "completed"
        },
        "tags": [],
        "id": "fkePvKtzVtfF"
      }
    },
    {
      "cell_type": "code",
      "source": [
        "fruits['year'] = np.repeat(2020,fruits.shape[0])\n",
        "'''\n",
        "Above code will repeat the year 2020 n times, where n is the length of data.\n",
        "'''\n",
        "fruits"
      ],
      "metadata": {
        "execution": {
          "iopub.execute_input": "2022-06-19T18:06:56.325734Z",
          "iopub.status.busy": "2022-06-19T18:06:56.324685Z",
          "iopub.status.idle": "2022-06-19T18:06:56.339634Z",
          "shell.execute_reply": "2022-06-19T18:06:56.338976Z"
        },
        "papermill": {
          "duration": 0.074307,
          "end_time": "2022-06-19T18:06:56.341594",
          "exception": false,
          "start_time": "2022-06-19T18:06:56.267287",
          "status": "completed"
        },
        "tags": [],
        "id": "gMVRxrSUVtfF",
        "outputId": "19a92579-ae87-4c7c-8c03-ebd1e2bc861c",
        "colab": {
          "base_uri": "https://localhost:8080/",
          "height": 143
        }
      },
      "outputs": [
        {
          "output_type": "execute_result",
          "data": {
            "text/plain": [
              "  Product  ContainerSales  year\n",
              "0   Mango              40  2020\n",
              "1   Apple              90  2020\n",
              "2  Banana             130  2020"
            ],
            "text/html": [
              "\n",
              "  <div id=\"df-9f50759a-9d57-4950-b5ac-9d8ffb773da2\" class=\"colab-df-container\">\n",
              "    <div>\n",
              "<style scoped>\n",
              "    .dataframe tbody tr th:only-of-type {\n",
              "        vertical-align: middle;\n",
              "    }\n",
              "\n",
              "    .dataframe tbody tr th {\n",
              "        vertical-align: top;\n",
              "    }\n",
              "\n",
              "    .dataframe thead th {\n",
              "        text-align: right;\n",
              "    }\n",
              "</style>\n",
              "<table border=\"1\" class=\"dataframe\">\n",
              "  <thead>\n",
              "    <tr style=\"text-align: right;\">\n",
              "      <th></th>\n",
              "      <th>Product</th>\n",
              "      <th>ContainerSales</th>\n",
              "      <th>year</th>\n",
              "    </tr>\n",
              "  </thead>\n",
              "  <tbody>\n",
              "    <tr>\n",
              "      <th>0</th>\n",
              "      <td>Mango</td>\n",
              "      <td>40</td>\n",
              "      <td>2020</td>\n",
              "    </tr>\n",
              "    <tr>\n",
              "      <th>1</th>\n",
              "      <td>Apple</td>\n",
              "      <td>90</td>\n",
              "      <td>2020</td>\n",
              "    </tr>\n",
              "    <tr>\n",
              "      <th>2</th>\n",
              "      <td>Banana</td>\n",
              "      <td>130</td>\n",
              "      <td>2020</td>\n",
              "    </tr>\n",
              "  </tbody>\n",
              "</table>\n",
              "</div>\n",
              "    <div class=\"colab-df-buttons\">\n",
              "\n",
              "  <div class=\"colab-df-container\">\n",
              "    <button class=\"colab-df-convert\" onclick=\"convertToInteractive('df-9f50759a-9d57-4950-b5ac-9d8ffb773da2')\"\n",
              "            title=\"Convert this dataframe to an interactive table.\"\n",
              "            style=\"display:none;\">\n",
              "\n",
              "  <svg xmlns=\"http://www.w3.org/2000/svg\" height=\"24px\" viewBox=\"0 -960 960 960\">\n",
              "    <path d=\"M120-120v-720h720v720H120Zm60-500h600v-160H180v160Zm220 220h160v-160H400v160Zm0 220h160v-160H400v160ZM180-400h160v-160H180v160Zm440 0h160v-160H620v160ZM180-180h160v-160H180v160Zm440 0h160v-160H620v160Z\"/>\n",
              "  </svg>\n",
              "    </button>\n",
              "\n",
              "  <style>\n",
              "    .colab-df-container {\n",
              "      display:flex;\n",
              "      gap: 12px;\n",
              "    }\n",
              "\n",
              "    .colab-df-convert {\n",
              "      background-color: #E8F0FE;\n",
              "      border: none;\n",
              "      border-radius: 50%;\n",
              "      cursor: pointer;\n",
              "      display: none;\n",
              "      fill: #1967D2;\n",
              "      height: 32px;\n",
              "      padding: 0 0 0 0;\n",
              "      width: 32px;\n",
              "    }\n",
              "\n",
              "    .colab-df-convert:hover {\n",
              "      background-color: #E2EBFA;\n",
              "      box-shadow: 0px 1px 2px rgba(60, 64, 67, 0.3), 0px 1px 3px 1px rgba(60, 64, 67, 0.15);\n",
              "      fill: #174EA6;\n",
              "    }\n",
              "\n",
              "    .colab-df-buttons div {\n",
              "      margin-bottom: 4px;\n",
              "    }\n",
              "\n",
              "    [theme=dark] .colab-df-convert {\n",
              "      background-color: #3B4455;\n",
              "      fill: #D2E3FC;\n",
              "    }\n",
              "\n",
              "    [theme=dark] .colab-df-convert:hover {\n",
              "      background-color: #434B5C;\n",
              "      box-shadow: 0px 1px 3px 1px rgba(0, 0, 0, 0.15);\n",
              "      filter: drop-shadow(0px 1px 2px rgba(0, 0, 0, 0.3));\n",
              "      fill: #FFFFFF;\n",
              "    }\n",
              "  </style>\n",
              "\n",
              "    <script>\n",
              "      const buttonEl =\n",
              "        document.querySelector('#df-9f50759a-9d57-4950-b5ac-9d8ffb773da2 button.colab-df-convert');\n",
              "      buttonEl.style.display =\n",
              "        google.colab.kernel.accessAllowed ? 'block' : 'none';\n",
              "\n",
              "      async function convertToInteractive(key) {\n",
              "        const element = document.querySelector('#df-9f50759a-9d57-4950-b5ac-9d8ffb773da2');\n",
              "        const dataTable =\n",
              "          await google.colab.kernel.invokeFunction('convertToInteractive',\n",
              "                                                    [key], {});\n",
              "        if (!dataTable) return;\n",
              "\n",
              "        const docLinkHtml = 'Like what you see? Visit the ' +\n",
              "          '<a target=\"_blank\" href=https://colab.research.google.com/notebooks/data_table.ipynb>data table notebook</a>'\n",
              "          + ' to learn more about interactive tables.';\n",
              "        element.innerHTML = '';\n",
              "        dataTable['output_type'] = 'display_data';\n",
              "        await google.colab.output.renderOutput(dataTable, element);\n",
              "        const docLink = document.createElement('div');\n",
              "        docLink.innerHTML = docLinkHtml;\n",
              "        element.appendChild(docLink);\n",
              "      }\n",
              "    </script>\n",
              "  </div>\n",
              "\n",
              "\n",
              "<div id=\"df-15cf9353-5daf-4981-8dfc-923437cff579\">\n",
              "  <button class=\"colab-df-quickchart\" onclick=\"quickchart('df-15cf9353-5daf-4981-8dfc-923437cff579')\"\n",
              "            title=\"Suggest charts\"\n",
              "            style=\"display:none;\">\n",
              "\n",
              "<svg xmlns=\"http://www.w3.org/2000/svg\" height=\"24px\"viewBox=\"0 0 24 24\"\n",
              "     width=\"24px\">\n",
              "    <g>\n",
              "        <path d=\"M19 3H5c-1.1 0-2 .9-2 2v14c0 1.1.9 2 2 2h14c1.1 0 2-.9 2-2V5c0-1.1-.9-2-2-2zM9 17H7v-7h2v7zm4 0h-2V7h2v10zm4 0h-2v-4h2v4z\"/>\n",
              "    </g>\n",
              "</svg>\n",
              "  </button>\n",
              "\n",
              "<style>\n",
              "  .colab-df-quickchart {\n",
              "      --bg-color: #E8F0FE;\n",
              "      --fill-color: #1967D2;\n",
              "      --hover-bg-color: #E2EBFA;\n",
              "      --hover-fill-color: #174EA6;\n",
              "      --disabled-fill-color: #AAA;\n",
              "      --disabled-bg-color: #DDD;\n",
              "  }\n",
              "\n",
              "  [theme=dark] .colab-df-quickchart {\n",
              "      --bg-color: #3B4455;\n",
              "      --fill-color: #D2E3FC;\n",
              "      --hover-bg-color: #434B5C;\n",
              "      --hover-fill-color: #FFFFFF;\n",
              "      --disabled-bg-color: #3B4455;\n",
              "      --disabled-fill-color: #666;\n",
              "  }\n",
              "\n",
              "  .colab-df-quickchart {\n",
              "    background-color: var(--bg-color);\n",
              "    border: none;\n",
              "    border-radius: 50%;\n",
              "    cursor: pointer;\n",
              "    display: none;\n",
              "    fill: var(--fill-color);\n",
              "    height: 32px;\n",
              "    padding: 0;\n",
              "    width: 32px;\n",
              "  }\n",
              "\n",
              "  .colab-df-quickchart:hover {\n",
              "    background-color: var(--hover-bg-color);\n",
              "    box-shadow: 0 1px 2px rgba(60, 64, 67, 0.3), 0 1px 3px 1px rgba(60, 64, 67, 0.15);\n",
              "    fill: var(--button-hover-fill-color);\n",
              "  }\n",
              "\n",
              "  .colab-df-quickchart-complete:disabled,\n",
              "  .colab-df-quickchart-complete:disabled:hover {\n",
              "    background-color: var(--disabled-bg-color);\n",
              "    fill: var(--disabled-fill-color);\n",
              "    box-shadow: none;\n",
              "  }\n",
              "\n",
              "  .colab-df-spinner {\n",
              "    border: 2px solid var(--fill-color);\n",
              "    border-color: transparent;\n",
              "    border-bottom-color: var(--fill-color);\n",
              "    animation:\n",
              "      spin 1s steps(1) infinite;\n",
              "  }\n",
              "\n",
              "  @keyframes spin {\n",
              "    0% {\n",
              "      border-color: transparent;\n",
              "      border-bottom-color: var(--fill-color);\n",
              "      border-left-color: var(--fill-color);\n",
              "    }\n",
              "    20% {\n",
              "      border-color: transparent;\n",
              "      border-left-color: var(--fill-color);\n",
              "      border-top-color: var(--fill-color);\n",
              "    }\n",
              "    30% {\n",
              "      border-color: transparent;\n",
              "      border-left-color: var(--fill-color);\n",
              "      border-top-color: var(--fill-color);\n",
              "      border-right-color: var(--fill-color);\n",
              "    }\n",
              "    40% {\n",
              "      border-color: transparent;\n",
              "      border-right-color: var(--fill-color);\n",
              "      border-top-color: var(--fill-color);\n",
              "    }\n",
              "    60% {\n",
              "      border-color: transparent;\n",
              "      border-right-color: var(--fill-color);\n",
              "    }\n",
              "    80% {\n",
              "      border-color: transparent;\n",
              "      border-right-color: var(--fill-color);\n",
              "      border-bottom-color: var(--fill-color);\n",
              "    }\n",
              "    90% {\n",
              "      border-color: transparent;\n",
              "      border-bottom-color: var(--fill-color);\n",
              "    }\n",
              "  }\n",
              "</style>\n",
              "\n",
              "  <script>\n",
              "    async function quickchart(key) {\n",
              "      const quickchartButtonEl =\n",
              "        document.querySelector('#' + key + ' button');\n",
              "      quickchartButtonEl.disabled = true;  // To prevent multiple clicks.\n",
              "      quickchartButtonEl.classList.add('colab-df-spinner');\n",
              "      try {\n",
              "        const charts = await google.colab.kernel.invokeFunction(\n",
              "            'suggestCharts', [key], {});\n",
              "      } catch (error) {\n",
              "        console.error('Error during call to suggestCharts:', error);\n",
              "      }\n",
              "      quickchartButtonEl.classList.remove('colab-df-spinner');\n",
              "      quickchartButtonEl.classList.add('colab-df-quickchart-complete');\n",
              "    }\n",
              "    (() => {\n",
              "      let quickchartButtonEl =\n",
              "        document.querySelector('#df-15cf9353-5daf-4981-8dfc-923437cff579 button');\n",
              "      quickchartButtonEl.style.display =\n",
              "        google.colab.kernel.accessAllowed ? 'block' : 'none';\n",
              "    })();\n",
              "  </script>\n",
              "</div>\n",
              "\n",
              "  <div id=\"id_6567f824-aa82-4d33-a522-55eae4ec3668\">\n",
              "    <style>\n",
              "      .colab-df-generate {\n",
              "        background-color: #E8F0FE;\n",
              "        border: none;\n",
              "        border-radius: 50%;\n",
              "        cursor: pointer;\n",
              "        display: none;\n",
              "        fill: #1967D2;\n",
              "        height: 32px;\n",
              "        padding: 0 0 0 0;\n",
              "        width: 32px;\n",
              "      }\n",
              "\n",
              "      .colab-df-generate:hover {\n",
              "        background-color: #E2EBFA;\n",
              "        box-shadow: 0px 1px 2px rgba(60, 64, 67, 0.3), 0px 1px 3px 1px rgba(60, 64, 67, 0.15);\n",
              "        fill: #174EA6;\n",
              "      }\n",
              "\n",
              "      [theme=dark] .colab-df-generate {\n",
              "        background-color: #3B4455;\n",
              "        fill: #D2E3FC;\n",
              "      }\n",
              "\n",
              "      [theme=dark] .colab-df-generate:hover {\n",
              "        background-color: #434B5C;\n",
              "        box-shadow: 0px 1px 3px 1px rgba(0, 0, 0, 0.15);\n",
              "        filter: drop-shadow(0px 1px 2px rgba(0, 0, 0, 0.3));\n",
              "        fill: #FFFFFF;\n",
              "      }\n",
              "    </style>\n",
              "    <button class=\"colab-df-generate\" onclick=\"generateWithVariable('fruits')\"\n",
              "            title=\"Generate code using this dataframe.\"\n",
              "            style=\"display:none;\">\n",
              "\n",
              "  <svg xmlns=\"http://www.w3.org/2000/svg\" height=\"24px\"viewBox=\"0 0 24 24\"\n",
              "       width=\"24px\">\n",
              "    <path d=\"M7,19H8.4L18.45,9,17,7.55,7,17.6ZM5,21V16.75L18.45,3.32a2,2,0,0,1,2.83,0l1.4,1.43a1.91,1.91,0,0,1,.58,1.4,1.91,1.91,0,0,1-.58,1.4L9.25,21ZM18.45,9,17,7.55Zm-12,3A5.31,5.31,0,0,0,4.9,8.1,5.31,5.31,0,0,0,1,6.5,5.31,5.31,0,0,0,4.9,4.9,5.31,5.31,0,0,0,6.5,1,5.31,5.31,0,0,0,8.1,4.9,5.31,5.31,0,0,0,12,6.5,5.46,5.46,0,0,0,6.5,12Z\"/>\n",
              "  </svg>\n",
              "    </button>\n",
              "    <script>\n",
              "      (() => {\n",
              "      const buttonEl =\n",
              "        document.querySelector('#id_6567f824-aa82-4d33-a522-55eae4ec3668 button.colab-df-generate');\n",
              "      buttonEl.style.display =\n",
              "        google.colab.kernel.accessAllowed ? 'block' : 'none';\n",
              "\n",
              "      buttonEl.onclick = () => {\n",
              "        google.colab.notebook.generateWithVariable('fruits');\n",
              "      }\n",
              "      })();\n",
              "    </script>\n",
              "  </div>\n",
              "\n",
              "    </div>\n",
              "  </div>\n"
            ],
            "application/vnd.google.colaboratory.intrinsic+json": {
              "type": "dataframe",
              "variable_name": "fruits",
              "summary": "{\n  \"name\": \"fruits\",\n  \"rows\": 3,\n  \"fields\": [\n    {\n      \"column\": \"Product\",\n      \"properties\": {\n        \"dtype\": \"string\",\n        \"num_unique_values\": 3,\n        \"samples\": [\n          \"Mango\",\n          \"Apple\",\n          \"Banana\"\n        ],\n        \"semantic_type\": \"\",\n        \"description\": \"\"\n      }\n    },\n    {\n      \"column\": \"ContainerSales\",\n      \"properties\": {\n        \"dtype\": \"number\",\n        \"std\": 45,\n        \"min\": 40,\n        \"max\": 130,\n        \"num_unique_values\": 3,\n        \"samples\": [\n          40,\n          90,\n          130\n        ],\n        \"semantic_type\": \"\",\n        \"description\": \"\"\n      }\n    },\n    {\n      \"column\": \"year\",\n      \"properties\": {\n        \"dtype\": \"number\",\n        \"std\": 0,\n        \"min\": 2020,\n        \"max\": 2020,\n        \"num_unique_values\": 1,\n        \"samples\": [\n          2020\n        ],\n        \"semantic_type\": \"\",\n        \"description\": \"\"\n      }\n    }\n  ]\n}"
            }
          },
          "metadata": {},
          "execution_count": 60
        }
      ],
      "execution_count": 60
    },
    {
      "cell_type": "markdown",
      "source": [
        "### 41. tile\n",
        "Construct an array by repeating A the number of times given by reps.![1_pvZMA5HzqHU5oOkN-scEMg.png](attachment:e07624d3-9062-40d7-8f3c-a45f08def6cb.png)"
      ],
      "metadata": {
        "papermill": {
          "duration": 0.054964,
          "end_time": "2022-06-19T18:06:56.452088",
          "exception": false,
          "start_time": "2022-06-19T18:06:56.397124",
          "status": "completed"
        },
        "tags": [],
        "id": "1qSa_VKMVtfF"
      }
    },
    {
      "cell_type": "code",
      "source": [
        "np.tile(\"Ram\",5)"
      ],
      "metadata": {
        "execution": {
          "iopub.execute_input": "2022-06-19T18:06:56.564843Z",
          "iopub.status.busy": "2022-06-19T18:06:56.564425Z",
          "iopub.status.idle": "2022-06-19T18:06:56.571355Z",
          "shell.execute_reply": "2022-06-19T18:06:56.570163Z"
        },
        "papermill": {
          "duration": 0.066388,
          "end_time": "2022-06-19T18:06:56.573561",
          "exception": false,
          "start_time": "2022-06-19T18:06:56.507173",
          "status": "completed"
        },
        "tags": [],
        "id": "2KV3VzetVtfF",
        "outputId": "3d23dc02-be9c-4251-bcaa-8a088000f210",
        "colab": {
          "base_uri": "https://localhost:8080/"
        }
      },
      "outputs": [
        {
          "output_type": "execute_result",
          "data": {
            "text/plain": [
              "array(['Ram', 'Ram', 'Ram', 'Ram', 'Ram'], dtype='<U3')"
            ]
          },
          "metadata": {},
          "execution_count": 61
        }
      ],
      "execution_count": 61
    },
    {
      "cell_type": "code",
      "source": [
        "np.tile(3,(2,3))"
      ],
      "metadata": {
        "execution": {
          "iopub.execute_input": "2022-06-19T18:06:56.685395Z",
          "iopub.status.busy": "2022-06-19T18:06:56.684978Z",
          "iopub.status.idle": "2022-06-19T18:06:56.691083Z",
          "shell.execute_reply": "2022-06-19T18:06:56.69035Z"
        },
        "papermill": {
          "duration": 0.064226,
          "end_time": "2022-06-19T18:06:56.693021",
          "exception": false,
          "start_time": "2022-06-19T18:06:56.628795",
          "status": "completed"
        },
        "tags": [],
        "id": "OwTow-7xVtfG",
        "outputId": "21d74c72-b23f-491e-d032-65034a760bdb",
        "colab": {
          "base_uri": "https://localhost:8080/"
        }
      },
      "outputs": [
        {
          "output_type": "execute_result",
          "data": {
            "text/plain": [
              "array([[3, 3, 3],\n",
              "       [3, 3, 3]])"
            ]
          },
          "metadata": {},
          "execution_count": 62
        }
      ],
      "execution_count": 62
    },
    {
      "cell_type": "markdown",
      "source": [
        "***"
      ],
      "metadata": {
        "papermill": {
          "duration": 0.055261,
          "end_time": "2022-06-19T18:06:56.802883",
          "exception": false,
          "start_time": "2022-06-19T18:06:56.747622",
          "status": "completed"
        },
        "tags": [],
        "id": "Jns8KCb0VtfG"
      }
    },
    {
      "cell_type": "markdown",
      "source": [
        "## Einstein Summation Conventions"
      ],
      "metadata": {
        "papermill": {
          "duration": 0.055431,
          "end_time": "2022-06-19T18:06:56.914033",
          "exception": false,
          "start_time": "2022-06-19T18:06:56.858602",
          "status": "completed"
        },
        "tags": [],
        "id": "wqUqZgxJVtfG"
      }
    },
    {
      "cell_type": "markdown",
      "source": [
        "### 42. Einsum\n",
        "This function is used to compute many multi-dimensional and linear algebraic operations on arrays."
      ],
      "metadata": {
        "papermill": {
          "duration": 0.055547,
          "end_time": "2022-06-19T18:06:57.025289",
          "exception": false,
          "start_time": "2022-06-19T18:06:56.969742",
          "status": "completed"
        },
        "tags": [],
        "id": "j3mQsUyKVtfG"
      }
    },
    {
      "cell_type": "code",
      "source": [
        "a = np.arange(1,10).reshape(3,3)\n",
        "b = np.arange(21,30).reshape(3,3)\n",
        "\n",
        "## ▪️ᴇxᴛʀᴀᴄᴛꜱ ᴅɪᴀɢᴏɴᴀʟꜱ\n",
        "np.einsum('ii->i',a)"
      ],
      "metadata": {
        "execution": {
          "iopub.execute_input": "2022-06-19T18:06:57.13717Z",
          "iopub.status.busy": "2022-06-19T18:06:57.136723Z",
          "iopub.status.idle": "2022-06-19T18:06:57.143834Z",
          "shell.execute_reply": "2022-06-19T18:06:57.142903Z"
        },
        "papermill": {
          "duration": 0.065427,
          "end_time": "2022-06-19T18:06:57.146003",
          "exception": false,
          "start_time": "2022-06-19T18:06:57.080576",
          "status": "completed"
        },
        "tags": [],
        "id": "LSiusTb-VtfH",
        "outputId": "e2a6badb-fa4e-46b2-9c13-3a3de1cd4772",
        "colab": {
          "base_uri": "https://localhost:8080/"
        }
      },
      "outputs": [
        {
          "output_type": "execute_result",
          "data": {
            "text/plain": [
              "array([1, 5, 9])"
            ]
          },
          "metadata": {},
          "execution_count": 63
        }
      ],
      "execution_count": 63
    },
    {
      "cell_type": "code",
      "source": [
        "## ▪️ᴛʀᴀɴꜱᴘᴏꜱᴇ\n",
        "np.einsum('ji',a)"
      ],
      "metadata": {
        "execution": {
          "iopub.execute_input": "2022-06-19T18:06:57.25899Z",
          "iopub.status.busy": "2022-06-19T18:06:57.258605Z",
          "iopub.status.idle": "2022-06-19T18:06:57.264521Z",
          "shell.execute_reply": "2022-06-19T18:06:57.263835Z"
        },
        "papermill": {
          "duration": 0.065068,
          "end_time": "2022-06-19T18:06:57.266448",
          "exception": false,
          "start_time": "2022-06-19T18:06:57.20138",
          "status": "completed"
        },
        "tags": [],
        "id": "m0C9iUi5VtfH",
        "outputId": "3dc8dfd1-7eae-41ac-9bb8-a867714beeac",
        "colab": {
          "base_uri": "https://localhost:8080/"
        }
      },
      "outputs": [
        {
          "output_type": "execute_result",
          "data": {
            "text/plain": [
              "array([[1, 4, 7],\n",
              "       [2, 5, 8],\n",
              "       [3, 6, 9]])"
            ]
          },
          "metadata": {},
          "execution_count": 64
        }
      ],
      "execution_count": 64
    },
    {
      "cell_type": "code",
      "source": [
        "## ▪️ᴍᴀᴛʀɪx ᴍᴜʟᴛɪᴘɪᴄᴀᴛɪᴏɴ\n",
        "np.einsum('ij,jk',a,b)"
      ],
      "metadata": {
        "execution": {
          "iopub.execute_input": "2022-06-19T18:06:57.381002Z",
          "iopub.status.busy": "2022-06-19T18:06:57.380466Z",
          "iopub.status.idle": "2022-06-19T18:06:57.387651Z",
          "shell.execute_reply": "2022-06-19T18:06:57.386579Z"
        },
        "papermill": {
          "duration": 0.066951,
          "end_time": "2022-06-19T18:06:57.389891",
          "exception": false,
          "start_time": "2022-06-19T18:06:57.32294",
          "status": "completed"
        },
        "tags": [],
        "id": "T-kojBwAVtfI",
        "outputId": "81d72bba-b29b-4667-fd96-6b1c7cae3397",
        "colab": {
          "base_uri": "https://localhost:8080/"
        }
      },
      "outputs": [
        {
          "output_type": "execute_result",
          "data": {
            "text/plain": [
              "array([[150, 156, 162],\n",
              "       [366, 381, 396],\n",
              "       [582, 606, 630]])"
            ]
          },
          "metadata": {},
          "execution_count": 65
        }
      ],
      "execution_count": 65
    },
    {
      "cell_type": "code",
      "source": [
        "##▪️ ꜱᴜᴍ ᴏꜰ ᴅɪᴀɢᴏɴᴀʟ\n",
        "np.einsum('ii',a)"
      ],
      "metadata": {
        "execution": {
          "iopub.execute_input": "2022-06-19T18:06:57.505572Z",
          "iopub.status.busy": "2022-06-19T18:06:57.505176Z",
          "iopub.status.idle": "2022-06-19T18:06:57.511022Z",
          "shell.execute_reply": "2022-06-19T18:06:57.510336Z"
        },
        "papermill": {
          "duration": 0.066188,
          "end_time": "2022-06-19T18:06:57.51307",
          "exception": false,
          "start_time": "2022-06-19T18:06:57.446882",
          "status": "completed"
        },
        "tags": [],
        "id": "-vBfsdaxVtfI",
        "outputId": "f2ee8b1e-d616-4b0b-c038-162184d20c36",
        "colab": {
          "base_uri": "https://localhost:8080/"
        }
      },
      "outputs": [
        {
          "output_type": "execute_result",
          "data": {
            "text/plain": [
              "15"
            ]
          },
          "metadata": {},
          "execution_count": 66
        }
      ],
      "execution_count": 66
    },
    {
      "cell_type": "markdown",
      "source": [
        "***"
      ],
      "metadata": {
        "papermill": {
          "duration": 0.055921,
          "end_time": "2022-06-19T18:06:57.625481",
          "exception": false,
          "start_time": "2022-06-19T18:06:57.56956",
          "status": "completed"
        },
        "tags": [],
        "id": "ZHw7W3XBVtfI"
      }
    },
    {
      "cell_type": "markdown",
      "source": [
        "## Statistical Analysis"
      ],
      "metadata": {
        "papermill": {
          "duration": 0.056362,
          "end_time": "2022-06-19T18:06:57.739571",
          "exception": false,
          "start_time": "2022-06-19T18:06:57.683209",
          "status": "completed"
        },
        "tags": [],
        "id": "D_FuFSQXVtfJ"
      }
    },
    {
      "cell_type": "markdown",
      "source": [
        "### 43. Histogram\n",
        "It is an important statistical analysis function of NumPy that computes histogram values for a set of data."
      ],
      "metadata": {
        "papermill": {
          "duration": 0.056624,
          "end_time": "2022-06-19T18:06:57.852604",
          "exception": false,
          "start_time": "2022-06-19T18:06:57.79598",
          "status": "completed"
        },
        "tags": [],
        "id": "p4uj4jgXVtfJ"
      }
    },
    {
      "cell_type": "code",
      "source": [
        "A = np.array([[3, 4, 5, 2],\n",
        "              [6, 7, 2, 6]])\n",
        "np.histogram(A)"
      ],
      "metadata": {
        "execution": {
          "iopub.execute_input": "2022-06-19T18:06:58.08594Z",
          "iopub.status.busy": "2022-06-19T18:06:58.085465Z",
          "iopub.status.idle": "2022-06-19T18:06:58.094887Z",
          "shell.execute_reply": "2022-06-19T18:06:58.093687Z"
        },
        "papermill": {
          "duration": 0.187333,
          "end_time": "2022-06-19T18:06:58.097166",
          "exception": false,
          "start_time": "2022-06-19T18:06:57.909833",
          "status": "completed"
        },
        "tags": [],
        "id": "AFMRQZnEVtfJ",
        "outputId": "0e010f0f-148d-41fc-cae2-2ad7c717a83b",
        "colab": {
          "base_uri": "https://localhost:8080/"
        }
      },
      "outputs": [
        {
          "output_type": "execute_result",
          "data": {
            "text/plain": [
              "(array([2, 0, 1, 0, 1, 0, 1, 0, 2, 1]),\n",
              " array([2. , 2.5, 3. , 3.5, 4. , 4.5, 5. , 5.5, 6. , 6.5, 7. ]))"
            ]
          },
          "metadata": {},
          "execution_count": 67
        }
      ],
      "execution_count": 67
    },
    {
      "cell_type": "markdown",
      "source": [
        "### 44. Percentile\n",
        "It computes the q-th percentile of the data along a specified axis.![1_c1hFE8QMcZYSpLP413Ijwg.png](attachment:e58175f3-cef3-4d05-88b7-3b16cb030ca8.png)\n",
        "\n",
        "**▪▶ Important params**<br>\n",
        "`a`: array like input.<br>\n",
        "`q`: percentile to compute.<br>\n",
        "`overwrite_input`: if true, then allow the input array to modify the intermediate calculation to save memory."
      ],
      "metadata": {
        "papermill": {
          "duration": 0.05707,
          "end_time": "2022-06-19T18:06:58.211616",
          "exception": false,
          "start_time": "2022-06-19T18:06:58.154546",
          "status": "completed"
        },
        "tags": [],
        "id": "GhcIO09nVtfJ"
      }
    },
    {
      "cell_type": "code",
      "source": [
        "a = np.array([[2, 4, 6], [4, 8, 12]])\n",
        "np.percentile(a, 50)"
      ],
      "metadata": {
        "execution": {
          "iopub.execute_input": "2022-06-19T18:06:58.328009Z",
          "iopub.status.busy": "2022-06-19T18:06:58.32737Z",
          "iopub.status.idle": "2022-06-19T18:06:58.335782Z",
          "shell.execute_reply": "2022-06-19T18:06:58.334685Z"
        },
        "papermill": {
          "duration": 0.069425,
          "end_time": "2022-06-19T18:06:58.338071",
          "exception": false,
          "start_time": "2022-06-19T18:06:58.268646",
          "status": "completed"
        },
        "tags": [],
        "id": "PGwcwLmUVtfK",
        "outputId": "846b9189-eb32-49f1-9cfa-467bf34c60a0",
        "colab": {
          "base_uri": "https://localhost:8080/"
        }
      },
      "outputs": [
        {
          "output_type": "execute_result",
          "data": {
            "text/plain": [
              "5.0"
            ]
          },
          "metadata": {},
          "execution_count": 68
        }
      ],
      "execution_count": 68
    },
    {
      "cell_type": "code",
      "source": [
        "np.percentile(a, 10)"
      ],
      "metadata": {
        "execution": {
          "iopub.execute_input": "2022-06-19T18:06:58.453318Z",
          "iopub.status.busy": "2022-06-19T18:06:58.45294Z",
          "iopub.status.idle": "2022-06-19T18:06:58.459392Z",
          "shell.execute_reply": "2022-06-19T18:06:58.458498Z"
        },
        "papermill": {
          "duration": 0.066277,
          "end_time": "2022-06-19T18:06:58.461471",
          "exception": false,
          "start_time": "2022-06-19T18:06:58.395194",
          "status": "completed"
        },
        "tags": [],
        "id": "NILD1l22VtfK",
        "outputId": "21c410b9-4d52-4545-e2af-5d266e37cdc3",
        "colab": {
          "base_uri": "https://localhost:8080/"
        }
      },
      "outputs": [
        {
          "output_type": "execute_result",
          "data": {
            "text/plain": [
              "3.0"
            ]
          },
          "metadata": {},
          "execution_count": 69
        }
      ],
      "execution_count": 69
    },
    {
      "cell_type": "code",
      "source": [
        "arr = np.array([2,3,4,1,6,7])\n",
        "np.percentile(a,5)"
      ],
      "metadata": {
        "execution": {
          "iopub.execute_input": "2022-06-19T18:06:58.575788Z",
          "iopub.status.busy": "2022-06-19T18:06:58.57537Z",
          "iopub.status.idle": "2022-06-19T18:06:58.583648Z",
          "shell.execute_reply": "2022-06-19T18:06:58.582365Z"
        },
        "papermill": {
          "duration": 0.068442,
          "end_time": "2022-06-19T18:06:58.586142",
          "exception": false,
          "start_time": "2022-06-19T18:06:58.5177",
          "status": "completed"
        },
        "tags": [],
        "id": "ZVTp25OjVtfK",
        "outputId": "9cf968d1-8ae2-472f-f62d-6f18bc1a1f88",
        "colab": {
          "base_uri": "https://localhost:8080/"
        }
      },
      "outputs": [
        {
          "output_type": "execute_result",
          "data": {
            "text/plain": [
              "2.5"
            ]
          },
          "metadata": {},
          "execution_count": 70
        }
      ],
      "execution_count": 70
    },
    {
      "cell_type": "markdown",
      "source": [
        "### 45. Standard Deviation and Variance\n",
        "std and var are two functions of NumPy that calculates standard deviation and variance along an axis."
      ],
      "metadata": {
        "papermill": {
          "duration": 0.055875,
          "end_time": "2022-06-19T18:06:58.700022",
          "exception": false,
          "start_time": "2022-06-19T18:06:58.644147",
          "status": "completed"
        },
        "tags": [],
        "id": "s8mjZ6nkVtfK"
      }
    },
    {
      "cell_type": "code",
      "source": [
        "a = np.array([[2, 4, 6], [4, 8, 12]])"
      ],
      "metadata": {
        "execution": {
          "iopub.execute_input": "2022-06-19T18:06:58.81439Z",
          "iopub.status.busy": "2022-06-19T18:06:58.813997Z",
          "iopub.status.idle": "2022-06-19T18:06:58.818782Z",
          "shell.execute_reply": "2022-06-19T18:06:58.817943Z"
        },
        "papermill": {
          "duration": 0.064781,
          "end_time": "2022-06-19T18:06:58.82099",
          "exception": false,
          "start_time": "2022-06-19T18:06:58.756209",
          "status": "completed"
        },
        "tags": [],
        "id": "Gwy0dTmgVtfL"
      },
      "outputs": [],
      "execution_count": 71
    },
    {
      "cell_type": "code",
      "source": [
        "np.std(a,axis=1)    ## Row Wise"
      ],
      "metadata": {
        "execution": {
          "iopub.execute_input": "2022-06-19T18:06:58.93697Z",
          "iopub.status.busy": "2022-06-19T18:06:58.936567Z",
          "iopub.status.idle": "2022-06-19T18:06:58.943316Z",
          "shell.execute_reply": "2022-06-19T18:06:58.94217Z"
        },
        "papermill": {
          "duration": 0.067412,
          "end_time": "2022-06-19T18:06:58.945655",
          "exception": false,
          "start_time": "2022-06-19T18:06:58.878243",
          "status": "completed"
        },
        "tags": [],
        "id": "VQgtCbkOVtfL",
        "outputId": "c54f28b8-1dd5-41e8-ca8f-1830d11683d7",
        "colab": {
          "base_uri": "https://localhost:8080/"
        }
      },
      "outputs": [
        {
          "output_type": "execute_result",
          "data": {
            "text/plain": [
              "array([1.63299316, 3.26598632])"
            ]
          },
          "metadata": {},
          "execution_count": 72
        }
      ],
      "execution_count": 72
    },
    {
      "cell_type": "code",
      "source": [
        "np.std(a,axis=0)    ## Column Wise"
      ],
      "metadata": {
        "execution": {
          "iopub.execute_input": "2022-06-19T18:06:59.061011Z",
          "iopub.status.busy": "2022-06-19T18:06:59.060591Z",
          "iopub.status.idle": "2022-06-19T18:06:59.067976Z",
          "shell.execute_reply": "2022-06-19T18:06:59.066914Z"
        },
        "papermill": {
          "duration": 0.067905,
          "end_time": "2022-06-19T18:06:59.070376",
          "exception": false,
          "start_time": "2022-06-19T18:06:59.002471",
          "status": "completed"
        },
        "tags": [],
        "id": "1EX8L__TVtfL",
        "outputId": "3ec63f11-6052-442c-e8e9-df7abc4cf197",
        "colab": {
          "base_uri": "https://localhost:8080/"
        }
      },
      "outputs": [
        {
          "output_type": "execute_result",
          "data": {
            "text/plain": [
              "array([1., 2., 3.])"
            ]
          },
          "metadata": {},
          "execution_count": 73
        }
      ],
      "execution_count": 73
    },
    {
      "cell_type": "code",
      "source": [
        "np.var(a,axis=1)"
      ],
      "metadata": {
        "execution": {
          "iopub.execute_input": "2022-06-19T18:06:59.186936Z",
          "iopub.status.busy": "2022-06-19T18:06:59.186518Z",
          "iopub.status.idle": "2022-06-19T18:06:59.192973Z",
          "shell.execute_reply": "2022-06-19T18:06:59.192242Z"
        },
        "papermill": {
          "duration": 0.067132,
          "end_time": "2022-06-19T18:06:59.195032",
          "exception": false,
          "start_time": "2022-06-19T18:06:59.1279",
          "status": "completed"
        },
        "tags": [],
        "id": "cDEysDSBVtfL",
        "outputId": "8e7d12bb-3164-4ccd-d920-fff9c0cf1ae1",
        "colab": {
          "base_uri": "https://localhost:8080/"
        }
      },
      "outputs": [
        {
          "output_type": "execute_result",
          "data": {
            "text/plain": [
              "array([ 2.66666667, 10.66666667])"
            ]
          },
          "metadata": {},
          "execution_count": 74
        }
      ],
      "execution_count": 74
    },
    {
      "cell_type": "code",
      "source": [
        "np.var(a,axis=0)"
      ],
      "metadata": {
        "execution": {
          "iopub.execute_input": "2022-06-19T18:06:59.311952Z",
          "iopub.status.busy": "2022-06-19T18:06:59.311563Z",
          "iopub.status.idle": "2022-06-19T18:06:59.318108Z",
          "shell.execute_reply": "2022-06-19T18:06:59.317041Z"
        },
        "papermill": {
          "duration": 0.068247,
          "end_time": "2022-06-19T18:06:59.320407",
          "exception": false,
          "start_time": "2022-06-19T18:06:59.25216",
          "status": "completed"
        },
        "tags": [],
        "id": "OHixpiNbVtfM",
        "outputId": "8daa03f6-42d5-4fbe-8ce3-97f53cfed091",
        "colab": {
          "base_uri": "https://localhost:8080/"
        }
      },
      "outputs": [
        {
          "output_type": "execute_result",
          "data": {
            "text/plain": [
              "array([1., 4., 9.])"
            ]
          },
          "metadata": {},
          "execution_count": 75
        }
      ],
      "execution_count": 75
    },
    {
      "cell_type": "markdown",
      "source": [
        "***"
      ],
      "metadata": {
        "papermill": {
          "duration": 0.057624,
          "end_time": "2022-06-19T18:06:59.43577",
          "exception": false,
          "start_time": "2022-06-19T18:06:59.378146",
          "status": "completed"
        },
        "tags": [],
        "id": "a57vdFVdVtfM"
      }
    },
    {
      "cell_type": "markdown",
      "source": [
        "## Array Printing Options"
      ],
      "metadata": {
        "papermill": {
          "duration": 0.056843,
          "end_time": "2022-06-19T18:06:59.550623",
          "exception": false,
          "start_time": "2022-06-19T18:06:59.49378",
          "status": "completed"
        },
        "tags": [],
        "id": "agwxuPF-VtfM"
      }
    },
    {
      "cell_type": "markdown",
      "source": [
        "### 46. Show Floats With Two Decimal Values"
      ],
      "metadata": {
        "papermill": {
          "duration": 0.058658,
          "end_time": "2022-06-19T18:06:59.667998",
          "exception": false,
          "start_time": "2022-06-19T18:06:59.60934",
          "status": "completed"
        },
        "tags": [],
        "id": "UmW4b_-VVtfM"
      }
    },
    {
      "cell_type": "code",
      "source": [
        "np.set_printoptions(precision=2)\n",
        "a = np.array([12.23456,32.34535])\n",
        "print(a)"
      ],
      "metadata": {
        "execution": {
          "iopub.execute_input": "2022-06-19T18:06:59.785919Z",
          "iopub.status.busy": "2022-06-19T18:06:59.785371Z",
          "iopub.status.idle": "2022-06-19T18:06:59.791217Z",
          "shell.execute_reply": "2022-06-19T18:06:59.789782Z"
        },
        "papermill": {
          "duration": 0.067002,
          "end_time": "2022-06-19T18:06:59.793271",
          "exception": false,
          "start_time": "2022-06-19T18:06:59.726269",
          "status": "completed"
        },
        "tags": [],
        "id": "EOHF6wjLVtfN",
        "outputId": "095e4fcf-a381-47a3-caf1-28229cf3ccbb",
        "colab": {
          "base_uri": "https://localhost:8080/"
        }
      },
      "outputs": [
        {
          "output_type": "stream",
          "name": "stdout",
          "text": [
            "[12.23 32.35]\n"
          ]
        }
      ],
      "execution_count": 76
    },
    {
      "cell_type": "markdown",
      "source": [
        "### 47. Prints Array To Its Max"
      ],
      "metadata": {
        "papermill": {
          "duration": 0.057441,
          "end_time": "2022-06-19T18:06:59.908535",
          "exception": false,
          "start_time": "2022-06-19T18:06:59.851094",
          "status": "completed"
        },
        "tags": [],
        "id": "B8ifarZ8VtfN"
      }
    },
    {
      "cell_type": "code",
      "source": [
        "np.set_printoptions(threshold=np.inf)"
      ],
      "metadata": {
        "execution": {
          "iopub.execute_input": "2022-06-19T18:07:00.025897Z",
          "iopub.status.busy": "2022-06-19T18:07:00.025357Z",
          "iopub.status.idle": "2022-06-19T18:07:00.029508Z",
          "shell.execute_reply": "2022-06-19T18:07:00.028721Z"
        },
        "papermill": {
          "duration": 0.065466,
          "end_time": "2022-06-19T18:07:00.031532",
          "exception": false,
          "start_time": "2022-06-19T18:06:59.966066",
          "status": "completed"
        },
        "tags": [],
        "id": "nPzlgMv-VtfN"
      },
      "outputs": [],
      "execution_count": 77
    },
    {
      "cell_type": "markdown",
      "source": [
        "### 48. Increase The Number of Elements In a Line"
      ],
      "metadata": {
        "papermill": {
          "duration": 0.057839,
          "end_time": "2022-06-19T18:07:00.147011",
          "exception": false,
          "start_time": "2022-06-19T18:07:00.089172",
          "status": "completed"
        },
        "tags": [],
        "id": "91IRGd9gVtfN"
      }
    },
    {
      "cell_type": "code",
      "source": [
        "np.set_printoptions(linewidth=100) ## Default 75"
      ],
      "metadata": {
        "execution": {
          "iopub.execute_input": "2022-06-19T18:07:00.264929Z",
          "iopub.status.busy": "2022-06-19T18:07:00.264362Z",
          "iopub.status.idle": "2022-06-19T18:07:00.268213Z",
          "shell.execute_reply": "2022-06-19T18:07:00.267512Z"
        },
        "papermill": {
          "duration": 0.064984,
          "end_time": "2022-06-19T18:07:00.270203",
          "exception": false,
          "start_time": "2022-06-19T18:07:00.205219",
          "status": "completed"
        },
        "tags": [],
        "id": "ndkv860mVtfO"
      },
      "outputs": [],
      "execution_count": 78
    },
    {
      "cell_type": "markdown",
      "source": [
        "***"
      ],
      "metadata": {
        "papermill": {
          "duration": 0.057755,
          "end_time": "2022-06-19T18:07:00.385925",
          "exception": false,
          "start_time": "2022-06-19T18:07:00.32817",
          "status": "completed"
        },
        "tags": [],
        "id": "mB-q8A7PVtfO"
      }
    },
    {
      "cell_type": "markdown",
      "source": [
        "## Save and Load Array Data"
      ],
      "metadata": {
        "papermill": {
          "duration": 0.057848,
          "end_time": "2022-06-19T18:07:00.503074",
          "exception": false,
          "start_time": "2022-06-19T18:07:00.445226",
          "status": "completed"
        },
        "tags": [],
        "id": "L-DCByPYVtfO"
      }
    },
    {
      "cell_type": "markdown",
      "source": [
        "### 49. Save\n",
        "`savetxt` used to save the content of an array inside a text file."
      ],
      "metadata": {
        "papermill": {
          "duration": 0.057351,
          "end_time": "2022-06-19T18:07:00.618083",
          "exception": false,
          "start_time": "2022-06-19T18:07:00.560732",
          "status": "completed"
        },
        "tags": [],
        "id": "kGVbt-tjVtfO"
      }
    },
    {
      "cell_type": "code",
      "source": [
        "''' Generate array with 500 elements '''\n",
        "\n",
        "arr = np.linspace(10,100,500).reshape(25,20)\n",
        "\n",
        "##◾ 𝗦𝗮𝘃𝗲𝘀 𝗔𝗿𝗿𝗮𝘆 𝗗𝗮𝘁𝗮 𝗜𝗻𝘀𝗶𝗱𝗲 𝗮 𝘁𝘅𝘁 𝗙𝗶𝗹𝗲\n",
        "np.savetxt('array.txt',arr)"
      ],
      "metadata": {
        "execution": {
          "iopub.execute_input": "2022-06-19T18:07:00.735557Z",
          "iopub.status.busy": "2022-06-19T18:07:00.735025Z",
          "iopub.status.idle": "2022-06-19T18:07:00.741033Z",
          "shell.execute_reply": "2022-06-19T18:07:00.740267Z"
        },
        "papermill": {
          "duration": 0.066932,
          "end_time": "2022-06-19T18:07:00.743058",
          "exception": false,
          "start_time": "2022-06-19T18:07:00.676126",
          "status": "completed"
        },
        "tags": [],
        "id": "EJN-6SCfVtfP"
      },
      "outputs": [],
      "execution_count": 79
    },
    {
      "cell_type": "markdown",
      "source": [
        "### 50. Load\n",
        "`loadtxt` used to load the content of an array from a text file. It takes the file name as a parameter."
      ],
      "metadata": {
        "papermill": {
          "duration": 0.108082,
          "end_time": "2022-06-19T18:07:00.908673",
          "exception": false,
          "start_time": "2022-06-19T18:07:00.800591",
          "status": "completed"
        },
        "tags": [],
        "id": "EhWxjGKCVtfP"
      }
    },
    {
      "cell_type": "code",
      "source": [
        "### ◾𝗟𝗼𝗮𝗱𝘀 𝗔𝗿𝗿𝗮𝘆 𝗗𝗮𝘁𝗮 𝗳𝗿𝗼𝗺 𝗮 𝘁𝘅𝘁 𝗙𝗶𝗹𝗲\n",
        "np.loadtxt('array.txt')"
      ],
      "metadata": {
        "execution": {
          "iopub.execute_input": "2022-06-19T18:07:01.025599Z",
          "iopub.status.busy": "2022-06-19T18:07:01.024911Z",
          "iopub.status.idle": "2022-06-19T18:07:01.039144Z",
          "shell.execute_reply": "2022-06-19T18:07:01.038119Z"
        },
        "papermill": {
          "duration": 0.074851,
          "end_time": "2022-06-19T18:07:01.041312",
          "exception": false,
          "start_time": "2022-06-19T18:07:00.966461",
          "status": "completed"
        },
        "tags": [],
        "id": "VsQQcSB9VtfP",
        "outputId": "02d50fd2-4b98-44f4-ee07-5ed4bc26e9d5",
        "colab": {
          "base_uri": "https://localhost:8080/"
        }
      },
      "outputs": [
        {
          "output_type": "execute_result",
          "data": {
            "text/plain": [
              "array([[ 10.  ,  10.18,  10.36,  10.54,  10.72,  10.9 ,  11.08,  11.26,  11.44,  11.62,  11.8 ,\n",
              "         11.98,  12.16,  12.34,  12.53,  12.71,  12.89,  13.07,  13.25,  13.43],\n",
              "       [ 13.61,  13.79,  13.97,  14.15,  14.33,  14.51,  14.69,  14.87,  15.05,  15.23,  15.41,\n",
              "         15.59,  15.77,  15.95,  16.13,  16.31,  16.49,  16.67,  16.85,  17.03],\n",
              "       [ 17.21,  17.39,  17.58,  17.76,  17.94,  18.12,  18.3 ,  18.48,  18.66,  18.84,  19.02,\n",
              "         19.2 ,  19.38,  19.56,  19.74,  19.92,  20.1 ,  20.28,  20.46,  20.64],\n",
              "       [ 20.82,  21.  ,  21.18,  21.36,  21.54,  21.72,  21.9 ,  22.08,  22.26,  22.44,  22.63,\n",
              "         22.81,  22.99,  23.17,  23.35,  23.53,  23.71,  23.89,  24.07,  24.25],\n",
              "       [ 24.43,  24.61,  24.79,  24.97,  25.15,  25.33,  25.51,  25.69,  25.87,  26.05,  26.23,\n",
              "         26.41,  26.59,  26.77,  26.95,  27.13,  27.31,  27.49,  27.68,  27.86],\n",
              "       [ 28.04,  28.22,  28.4 ,  28.58,  28.76,  28.94,  29.12,  29.3 ,  29.48,  29.66,  29.84,\n",
              "         30.02,  30.2 ,  30.38,  30.56,  30.74,  30.92,  31.1 ,  31.28,  31.46],\n",
              "       [ 31.64,  31.82,  32.  ,  32.18,  32.36,  32.55,  32.73,  32.91,  33.09,  33.27,  33.45,\n",
              "         33.63,  33.81,  33.99,  34.17,  34.35,  34.53,  34.71,  34.89,  35.07],\n",
              "       [ 35.25,  35.43,  35.61,  35.79,  35.97,  36.15,  36.33,  36.51,  36.69,  36.87,  37.05,\n",
              "         37.23,  37.41,  37.6 ,  37.78,  37.96,  38.14,  38.32,  38.5 ,  38.68],\n",
              "       [ 38.86,  39.04,  39.22,  39.4 ,  39.58,  39.76,  39.94,  40.12,  40.3 ,  40.48,  40.66,\n",
              "         40.84,  41.02,  41.2 ,  41.38,  41.56,  41.74,  41.92,  42.1 ,  42.28],\n",
              "       [ 42.46,  42.65,  42.83,  43.01,  43.19,  43.37,  43.55,  43.73,  43.91,  44.09,  44.27,\n",
              "         44.45,  44.63,  44.81,  44.99,  45.17,  45.35,  45.53,  45.71,  45.89],\n",
              "       [ 46.07,  46.25,  46.43,  46.61,  46.79,  46.97,  47.15,  47.33,  47.52,  47.7 ,  47.88,\n",
              "         48.06,  48.24,  48.42,  48.6 ,  48.78,  48.96,  49.14,  49.32,  49.5 ],\n",
              "       [ 49.68,  49.86,  50.04,  50.22,  50.4 ,  50.58,  50.76,  50.94,  51.12,  51.3 ,  51.48,\n",
              "         51.66,  51.84,  52.02,  52.2 ,  52.38,  52.57,  52.75,  52.93,  53.11],\n",
              "       [ 53.29,  53.47,  53.65,  53.83,  54.01,  54.19,  54.37,  54.55,  54.73,  54.91,  55.09,\n",
              "         55.27,  55.45,  55.63,  55.81,  55.99,  56.17,  56.35,  56.53,  56.71],\n",
              "       [ 56.89,  57.07,  57.25,  57.43,  57.62,  57.8 ,  57.98,  58.16,  58.34,  58.52,  58.7 ,\n",
              "         58.88,  59.06,  59.24,  59.42,  59.6 ,  59.78,  59.96,  60.14,  60.32],\n",
              "       [ 60.5 ,  60.68,  60.86,  61.04,  61.22,  61.4 ,  61.58,  61.76,  61.94,  62.12,  62.3 ,\n",
              "         62.48,  62.67,  62.85,  63.03,  63.21,  63.39,  63.57,  63.75,  63.93],\n",
              "       [ 64.11,  64.29,  64.47,  64.65,  64.83,  65.01,  65.19,  65.37,  65.55,  65.73,  65.91,\n",
              "         66.09,  66.27,  66.45,  66.63,  66.81,  66.99,  67.17,  67.35,  67.54],\n",
              "       [ 67.72,  67.9 ,  68.08,  68.26,  68.44,  68.62,  68.8 ,  68.98,  69.16,  69.34,  69.52,\n",
              "         69.7 ,  69.88,  70.06,  70.24,  70.42,  70.6 ,  70.78,  70.96,  71.14],\n",
              "       [ 71.32,  71.5 ,  71.68,  71.86,  72.04,  72.22,  72.4 ,  72.59,  72.77,  72.95,  73.13,\n",
              "         73.31,  73.49,  73.67,  73.85,  74.03,  74.21,  74.39,  74.57,  74.75],\n",
              "       [ 74.93,  75.11,  75.29,  75.47,  75.65,  75.83,  76.01,  76.19,  76.37,  76.55,  76.73,\n",
              "         76.91,  77.09,  77.27,  77.45,  77.64,  77.82,  78.  ,  78.18,  78.36],\n",
              "       [ 78.54,  78.72,  78.9 ,  79.08,  79.26,  79.44,  79.62,  79.8 ,  79.98,  80.16,  80.34,\n",
              "         80.52,  80.7 ,  80.88,  81.06,  81.24,  81.42,  81.6 ,  81.78,  81.96],\n",
              "       [ 82.14,  82.32,  82.51,  82.69,  82.87,  83.05,  83.23,  83.41,  83.59,  83.77,  83.95,\n",
              "         84.13,  84.31,  84.49,  84.67,  84.85,  85.03,  85.21,  85.39,  85.57],\n",
              "       [ 85.75,  85.93,  86.11,  86.29,  86.47,  86.65,  86.83,  87.01,  87.19,  87.37,  87.56,\n",
              "         87.74,  87.92,  88.1 ,  88.28,  88.46,  88.64,  88.82,  89.  ,  89.18],\n",
              "       [ 89.36,  89.54,  89.72,  89.9 ,  90.08,  90.26,  90.44,  90.62,  90.8 ,  90.98,  91.16,\n",
              "         91.34,  91.52,  91.7 ,  91.88,  92.06,  92.24,  92.42,  92.61,  92.79],\n",
              "       [ 92.97,  93.15,  93.33,  93.51,  93.69,  93.87,  94.05,  94.23,  94.41,  94.59,  94.77,\n",
              "         94.95,  95.13,  95.31,  95.49,  95.67,  95.85,  96.03,  96.21,  96.39],\n",
              "       [ 96.57,  96.75,  96.93,  97.11,  97.29,  97.47,  97.66,  97.84,  98.02,  98.2 ,  98.38,\n",
              "         98.56,  98.74,  98.92,  99.1 ,  99.28,  99.46,  99.64,  99.82, 100.  ]])"
            ]
          },
          "metadata": {},
          "execution_count": 80
        }
      ],
      "execution_count": 80
    },
    {
      "cell_type": "markdown",
      "source": [
        "## Thanks For Reading\n",
        "I hope You Found Someting useful.\n",
        "\n",
        "### Don't Forgot to give the notebook a 🔼"
      ],
      "metadata": {
        "papermill": {
          "duration": 0.057713,
          "end_time": "2022-06-19T18:07:01.156275",
          "exception": false,
          "start_time": "2022-06-19T18:07:01.098562",
          "status": "completed"
        },
        "tags": [],
        "id": "YkjdSnLdVtfP"
      }
    },
    {
      "cell_type": "markdown",
      "source": [
        "### **----Check Out My Other Notebooks As Well---**\n",
        "\n",
        "[Feature Engineering - Handling Missing Values](https://www.kaggle.com/code/abhayparashar31/feature-engineering-handling-missing-values)<br>\n",
        "[Spaceship Titanic Complete Analysis + Prediction Using Plotly & XGBClassifier](https://www.kaggle.com/code/abhayparashar31/spaceship-titanic-complete-analysis-prediction)"
      ],
      "metadata": {
        "papermill": {
          "duration": 0.056467,
          "end_time": "2022-06-19T18:07:01.274223",
          "exception": false,
          "start_time": "2022-06-19T18:07:01.217756",
          "status": "completed"
        },
        "tags": [],
        "id": "MmMTYFc3VtfQ"
      }
    }
  ]
}